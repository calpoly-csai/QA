{
 "cells": [
  {
   "cell_type": "code",
   "execution_count": 1,
   "metadata": {},
   "outputs": [],
   "source": [
    "import pandas as pd\n",
    "from os.path import join\n",
    "import pandas_profiling"
   ]
  },
  {
   "cell_type": "code",
   "execution_count": 2,
   "metadata": {},
   "outputs": [],
   "source": [
    "DIR = \"../csv_outputs\"\n",
    "INPUT_FILE_PATH = join(DIR, \"good_data.csv\")\n",
    "OUTPUT_FILE_PATH = join(DIR, \"good_data_tags.csv\")\n",
    "INDEX_HTML_FILE_PATH = join(\"..\", \"index.html\")"
   ]
  },
  {
   "cell_type": "code",
   "execution_count": 3,
   "metadata": {},
   "outputs": [],
   "source": [
    "df = pd.read_csv(INPUT_FILE_PATH)\n",
    "df.columns = ['id_group', 'group', 'q_format', 'a_format']"
   ]
  },
  {
   "cell_type": "code",
   "execution_count": 4,
   "metadata": {},
   "outputs": [
    {
     "data": {
      "text/html": [
       "<div>\n",
       "<style scoped>\n",
       "    .dataframe tbody tr th:only-of-type {\n",
       "        vertical-align: middle;\n",
       "    }\n",
       "\n",
       "    .dataframe tbody tr th {\n",
       "        vertical-align: top;\n",
       "    }\n",
       "\n",
       "    .dataframe thead th {\n",
       "        text-align: right;\n",
       "    }\n",
       "</style>\n",
       "<table border=\"1\" class=\"dataframe\">\n",
       "  <thead>\n",
       "    <tr style=\"text-align: right;\">\n",
       "      <th></th>\n",
       "      <th>id_group</th>\n",
       "      <th>group</th>\n",
       "      <th>q_format</th>\n",
       "      <th>a_format</th>\n",
       "    </tr>\n",
       "  </thead>\n",
       "  <tbody>\n",
       "    <tr>\n",
       "      <th>2113</th>\n",
       "      <td>87</td>\n",
       "      <td>A2</td>\n",
       "      <td>What time does [CSCorSTAT] tutoring meet?</td>\n",
       "      <td>[TutorTime] (if CSC, also insert note on how t...</td>\n",
       "    </tr>\n",
       "    <tr>\n",
       "      <th>2114</th>\n",
       "      <td>88</td>\n",
       "      <td>A2</td>\n",
       "      <td>Who are some private tutors for Statistics?</td>\n",
       "      <td>Here is a PDF for a list of private Statistics...</td>\n",
       "    </tr>\n",
       "    <tr>\n",
       "      <th>2115</th>\n",
       "      <td>89</td>\n",
       "      <td>A2</td>\n",
       "      <td>What do I need to do to be a CSC tutor?</td>\n",
       "      <td>Complete (or be enrolled in) CSC 357 and sched...</td>\n",
       "    </tr>\n",
       "    <tr>\n",
       "      <th>2116</th>\n",
       "      <td>90</td>\n",
       "      <td>A2</td>\n",
       "      <td>Does [CSSESTATClubOrgName] have a [OfficerRole...</td>\n",
       "      <td>[YesOrNo]</td>\n",
       "    </tr>\n",
       "    <tr>\n",
       "      <th>2117</th>\n",
       "      <td>91</td>\n",
       "      <td>A2</td>\n",
       "      <td>Who is the club adviser for [CSSESTATClubOrgNa...</td>\n",
       "      <td>The club adviser for [CSSESTATClubOrgName] is ...</td>\n",
       "    </tr>\n",
       "  </tbody>\n",
       "</table>\n",
       "</div>"
      ],
      "text/plain": [
       "      id_group group                                           q_format  \\\n",
       "2113        87    A2          What time does [CSCorSTAT] tutoring meet?   \n",
       "2114        88    A2        Who are some private tutors for Statistics?   \n",
       "2115        89    A2            What do I need to do to be a CSC tutor?   \n",
       "2116        90    A2  Does [CSSESTATClubOrgName] have a [OfficerRole...   \n",
       "2117        91    A2  Who is the club adviser for [CSSESTATClubOrgNa...   \n",
       "\n",
       "                                               a_format  \n",
       "2113  [TutorTime] (if CSC, also insert note on how t...  \n",
       "2114  Here is a PDF for a list of private Statistics...  \n",
       "2115  Complete (or be enrolled in) CSC 357 and sched...  \n",
       "2116                                          [YesOrNo]  \n",
       "2117  The club adviser for [CSSESTATClubOrgName] is ...  "
      ]
     },
     "execution_count": 4,
     "metadata": {},
     "output_type": "execute_result"
    }
   ],
   "source": [
    "df.tail()"
   ]
  },
  {
   "cell_type": "code",
   "execution_count": 5,
   "metadata": {},
   "outputs": [],
   "source": [
    "tags_df = df['q_format'].str.extractall(\"(?P<tag>\\[[^\\[]*\\])\")\n",
    "tags_df = tags_df.unstack()\n",
    "tags_df.columns = ['tag0', 'tag1', 'tag2', 'tag3']"
   ]
  },
  {
   "cell_type": "code",
   "execution_count": 6,
   "metadata": {},
   "outputs": [],
   "source": [
    "df = df.join(tags_df)"
   ]
  },
  {
   "cell_type": "code",
   "execution_count": 7,
   "metadata": {},
   "outputs": [],
   "source": [
    "title = 'Pandas Profiling Report for {}'.format(OUTPUT_FILE_PATH)\n",
    "pandas_profiling.ProfileReport(df, title=title).to_file(INDEX_HTML_FILE_PATH)"
   ]
  },
  {
   "cell_type": "code",
   "execution_count": 8,
   "metadata": {},
   "outputs": [],
   "source": [
    "with open(OUTPUT_FILE_PATH, 'w') as f:\n",
    "    f.write(df.to_csv())"
   ]
  }
 ],
 "metadata": {
  "kernelspec": {
   "display_name": "Python 3",
   "language": "python",
   "name": "python3"
  },
  "language_info": {
   "codemirror_mode": {
    "name": "ipython",
    "version": 3
   },
   "file_extension": ".py",
   "mimetype": "text/x-python",
   "name": "python",
   "nbconvert_exporter": "python",
   "pygments_lexer": "ipython3",
   "version": "3.6.8"
  }
 },
 "nbformat": 4,
 "nbformat_minor": 2
}
