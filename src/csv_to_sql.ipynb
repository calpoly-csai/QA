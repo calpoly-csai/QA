{
 "cells": [
  {
   "cell_type": "markdown",
   "metadata": {},
   "source": [
    "# `csv_to_sql`\n",
    "\n",
    "Given a csv file\n",
    "\n",
    "Return the sql INSERT statements"
   ]
  },
  {
   "cell_type": "code",
   "execution_count": 1,
   "metadata": {},
   "outputs": [],
   "source": [
    "import pandas as pd\n",
    "from os.path import join\n",
    "from os import listdir\n",
    "import numpy as np\n",
    "import re"
   ]
  },
  {
   "cell_type": "code",
   "execution_count": 2,
   "metadata": {},
   "outputs": [],
   "source": [
    "INPUT_DIR = join(\"..\", \"csv_inputs\")\n",
    "OUTPUT_DIR = join(\"..\", \"script_outputs\")\n",
    "HTML_OUTPUT_DIR = join(\"..\", \"html_outputs\")\n",
    "\n",
    "HTML_FILE_PATH = join(HTML_OUTPUT_DIR, \"csv_to_sql.html\")\n",
    "SCRIPT_OUTPUT_PATH = join(OUTPUT_DIR, \"courses_insert_statements.sql\")"
   ]
  },
  {
   "cell_type": "code",
   "execution_count": 3,
   "metadata": {},
   "outputs": [
    {
     "name": "stdout",
     "output_type": "stream",
     "text": [
      "INPUT_DIR contents... ['csai_scraped_data_response.csv']\n"
     ]
    }
   ],
   "source": [
    "files = listdir(INPUT_DIR)\n",
    "print(\"INPUT_DIR contents...\", files)"
   ]
  },
  {
   "cell_type": "code",
   "execution_count": 4,
   "metadata": {},
   "outputs": [],
   "source": [
    "INPUT_FILE = join(INPUT_DIR, files[0])"
   ]
  },
  {
   "cell_type": "code",
   "execution_count": 5,
   "metadata": {},
   "outputs": [],
   "source": [
    "df = pd.read_csv(INPUT_FILE)"
   ]
  },
  {
   "cell_type": "code",
   "execution_count": 6,
   "metadata": {},
   "outputs": [
    {
     "data": {
      "text/html": [
       "<div>\n",
       "<style scoped>\n",
       "    .dataframe tbody tr th:only-of-type {\n",
       "        vertical-align: middle;\n",
       "    }\n",
       "\n",
       "    .dataframe tbody tr th {\n",
       "        vertical-align: top;\n",
       "    }\n",
       "\n",
       "    .dataframe thead th {\n",
       "        text-align: right;\n",
       "    }\n",
       "</style>\n",
       "<table border=\"1\" class=\"dataframe\">\n",
       "  <thead>\n",
       "    <tr style=\"text-align: right;\">\n",
       "      <th></th>\n",
       "      <th>club_course_name</th>\n",
       "      <th>advisor</th>\n",
       "      <th>advisor_email</th>\n",
       "      <th>advisor_phone</th>\n",
       "      <th>affiliation</th>\n",
       "      <th>box</th>\n",
       "      <th>concurrent</th>\n",
       "      <th>contact_email</th>\n",
       "      <th>contact_email_2</th>\n",
       "      <th>contact_person</th>\n",
       "      <th>...</th>\n",
       "      <th>office</th>\n",
       "      <th>office_hours</th>\n",
       "      <th>phone</th>\n",
       "      <th>prerequisites</th>\n",
       "      <th>recommended</th>\n",
       "      <th>research_interests</th>\n",
       "      <th>termsTypicallyOffered</th>\n",
       "      <th>type</th>\n",
       "      <th>types</th>\n",
       "      <th>units</th>\n",
       "    </tr>\n",
       "  </thead>\n",
       "  <tbody>\n",
       "    <tr>\n",
       "      <th>93</th>\n",
       "      <td>CPE 100. Computer Engineering Orientation.</td>\n",
       "      <td>None</td>\n",
       "      <td>None</td>\n",
       "      <td>None</td>\n",
       "      <td>None</td>\n",
       "      <td>None</td>\n",
       "      <td>NaN</td>\n",
       "      <td>None</td>\n",
       "      <td>None</td>\n",
       "      <td>None</td>\n",
       "      <td>...</td>\n",
       "      <td>None</td>\n",
       "      <td>None</td>\n",
       "      <td>None</td>\n",
       "      <td>NaN</td>\n",
       "      <td>NaN</td>\n",
       "      <td>None</td>\n",
       "      <td>F</td>\n",
       "      <td>course</td>\n",
       "      <td>None</td>\n",
       "      <td>1</td>\n",
       "    </tr>\n",
       "    <tr>\n",
       "      <th>94</th>\n",
       "      <td>CPE 101. Fundamentals of Computer Science.</td>\n",
       "      <td>None</td>\n",
       "      <td>None</td>\n",
       "      <td>None</td>\n",
       "      <td>None</td>\n",
       "      <td>None</td>\n",
       "      <td>NaN</td>\n",
       "      <td>None</td>\n",
       "      <td>None</td>\n",
       "      <td>None</td>\n",
       "      <td>...</td>\n",
       "      <td>None</td>\n",
       "      <td>None</td>\n",
       "      <td>None</td>\n",
       "      <td>Appropriate Math Placement Level; or MATH 117 ...</td>\n",
       "      <td>NaN</td>\n",
       "      <td>None</td>\n",
       "      <td>F, W, SP</td>\n",
       "      <td>course</td>\n",
       "      <td>None</td>\n",
       "      <td>4</td>\n",
       "    </tr>\n",
       "    <tr>\n",
       "      <th>95</th>\n",
       "      <td>CPE 105. Fundamentals of Computer Science I Su...</td>\n",
       "      <td>None</td>\n",
       "      <td>None</td>\n",
       "      <td>None</td>\n",
       "      <td>None</td>\n",
       "      <td>None</td>\n",
       "      <td>CPE/CSC 101.</td>\n",
       "      <td>None</td>\n",
       "      <td>None</td>\n",
       "      <td>None</td>\n",
       "      <td>...</td>\n",
       "      <td>None</td>\n",
       "      <td>None</td>\n",
       "      <td>None</td>\n",
       "      <td>NaN</td>\n",
       "      <td>NaN</td>\n",
       "      <td>None</td>\n",
       "      <td>TBD</td>\n",
       "      <td>course</td>\n",
       "      <td>None</td>\n",
       "      <td>1</td>\n",
       "    </tr>\n",
       "    <tr>\n",
       "      <th>96</th>\n",
       "      <td>CPE 108. Accelerated Introduction to Computer ...</td>\n",
       "      <td>None</td>\n",
       "      <td>None</td>\n",
       "      <td>None</td>\n",
       "      <td>None</td>\n",
       "      <td>None</td>\n",
       "      <td>NaN</td>\n",
       "      <td>None</td>\n",
       "      <td>None</td>\n",
       "      <td>None</td>\n",
       "      <td>...</td>\n",
       "      <td>None</td>\n",
       "      <td>None</td>\n",
       "      <td>None</td>\n",
       "      <td>MATH 118 (or equivalent) with a grade of C- or...</td>\n",
       "      <td>NaN</td>\n",
       "      <td>None</td>\n",
       "      <td>TBD</td>\n",
       "      <td>course</td>\n",
       "      <td>None</td>\n",
       "      <td>4</td>\n",
       "    </tr>\n",
       "    <tr>\n",
       "      <th>97</th>\n",
       "      <td>CPE 123. Introduction to Computing.</td>\n",
       "      <td>None</td>\n",
       "      <td>None</td>\n",
       "      <td>None</td>\n",
       "      <td>None</td>\n",
       "      <td>None</td>\n",
       "      <td>NaN</td>\n",
       "      <td>None</td>\n",
       "      <td>None</td>\n",
       "      <td>None</td>\n",
       "      <td>...</td>\n",
       "      <td>None</td>\n",
       "      <td>None</td>\n",
       "      <td>None</td>\n",
       "      <td>Basic computer literacy.</td>\n",
       "      <td>NaN</td>\n",
       "      <td>None</td>\n",
       "      <td>F</td>\n",
       "      <td>course</td>\n",
       "      <td>None</td>\n",
       "      <td>4</td>\n",
       "    </tr>\n",
       "  </tbody>\n",
       "</table>\n",
       "<p>5 rows × 26 columns</p>\n",
       "</div>"
      ],
      "text/plain": [
       "                                     club_course_name advisor advisor_email  \\\n",
       "93         CPE 100. Computer Engineering Orientation.    None          None   \n",
       "94         CPE 101. Fundamentals of Computer Science.    None          None   \n",
       "95  CPE 105. Fundamentals of Computer Science I Su...    None          None   \n",
       "96  CPE 108. Accelerated Introduction to Computer ...    None          None   \n",
       "97                CPE 123. Introduction to Computing.    None          None   \n",
       "\n",
       "   advisor_phone affiliation   box    concurrent contact_email  \\\n",
       "93          None        None  None           NaN          None   \n",
       "94          None        None  None           NaN          None   \n",
       "95          None        None  None  CPE/CSC 101.          None   \n",
       "96          None        None  None           NaN          None   \n",
       "97          None        None  None           NaN          None   \n",
       "\n",
       "   contact_email_2 contact_person  ... office office_hours phone  \\\n",
       "93            None           None  ...   None         None  None   \n",
       "94            None           None  ...   None         None  None   \n",
       "95            None           None  ...   None         None  None   \n",
       "96            None           None  ...   None         None  None   \n",
       "97            None           None  ...   None         None  None   \n",
       "\n",
       "                                        prerequisites recommended  \\\n",
       "93                                                NaN         NaN   \n",
       "94  Appropriate Math Placement Level; or MATH 117 ...         NaN   \n",
       "95                                                NaN         NaN   \n",
       "96  MATH 118 (or equivalent) with a grade of C- or...         NaN   \n",
       "97                           Basic computer literacy.         NaN   \n",
       "\n",
       "   research_interests termsTypicallyOffered    type types units  \n",
       "93               None                     F  course  None     1  \n",
       "94               None              F, W, SP  course  None     4  \n",
       "95               None                   TBD  course  None     1  \n",
       "96               None                   TBD  course  None     4  \n",
       "97               None                     F  course  None     4  \n",
       "\n",
       "[5 rows x 26 columns]"
      ]
     },
     "execution_count": 6,
     "metadata": {},
     "output_type": "execute_result"
    }
   ],
   "source": [
    "courses_df = df[df['type'] == 'course']\n",
    "courses_df.head()"
   ]
  },
  {
   "cell_type": "markdown",
   "metadata": {},
   "source": [
    "# What should the INSERT look like?\n",
    "\n",
    "## for Courses\n",
    "\n",
    "```mysql\n",
    "INSERT INTO `Courses` \n",
    "(`courseId`, `dept`, `courseNum`, `termsOffered`, `units`, \n",
    "`courseName`, `concurrent`, `recommended`, `crossListedAs`, \n",
    "`standing`) \n",
    "VALUES \n",
    "(5,'DEPT',777,'SU',127,'HALF A DEGREEE','NA','NA','DEPT 666','NA');\n",
    "```\n",
    "\n",
    "\n",
    "## for Prerequisites\n",
    "\n",
    "```mysql\n",
    "INSERT INTO `Prerequisites` (`courseId`, `prereqCourse`)\n",
    "VALUES (4, 'CSC 307 | CSC 308');\n",
    "```"
   ]
  },
  {
   "cell_type": "code",
   "execution_count": 7,
   "metadata": {},
   "outputs": [
    {
     "data": {
      "text/plain": [
       "Index(['club_course_name', 'advisor', 'advisor_email', 'advisor_phone',\n",
       "       'affiliation', 'box', 'concurrent', 'contact_email', 'contact_email_2',\n",
       "       'contact_person', 'contact_phone', 'corequisites', 'courseName',\n",
       "       'department', 'description', 'email', 'office', 'office_hours', 'phone',\n",
       "       'prerequisites', 'recommended', 'research_interests',\n",
       "       'termsTypicallyOffered', 'type', 'types', 'units'],\n",
       "      dtype='object')"
      ]
     },
     "execution_count": 7,
     "metadata": {},
     "output_type": "execute_result"
    }
   ],
   "source": [
    "# What do our columns look like?\n",
    "courses_df.columns"
   ]
  },
  {
   "cell_type": "code",
   "execution_count": 8,
   "metadata": {},
   "outputs": [],
   "source": [
    "# Let's make a dataframe that filters for just the columns we want\n",
    "mysql_df = courses_df[['club_course_name', 'termsTypicallyOffered', 'units', 'concurrent', 'recommended', 'prerequisites']]\n",
    "mysql_df.columns = ['courseName', 'termsOffered', 'units', 'raw_concurrent_text', 'raw_recommended_text', 'raw_prerequisites_text']"
   ]
  },
  {
   "cell_type": "code",
   "execution_count": 9,
   "metadata": {},
   "outputs": [],
   "source": [
    "# https://stackoverflow.com/questions/20625582/how-to-deal-with-settingwithcopywarning-in-pandas\n",
    "pd.options.mode.chained_assignment = None  # default='warn'"
   ]
  },
  {
   "cell_type": "code",
   "execution_count": 10,
   "metadata": {},
   "outputs": [],
   "source": [
    "mysql_df['crossListedAs'] = pd.DataFrame([\"NA_CROSS_LIST\"]*len(mysql_df))"
   ]
  },
  {
   "cell_type": "code",
   "execution_count": 11,
   "metadata": {},
   "outputs": [],
   "source": [
    "# fillna\n",
    "mysql_df['raw_prerequisites_text'] = mysql_df['raw_prerequisites_text'].fillna(\"NA_PREREQUISITE_TEXT\")\n",
    "mysql_df['raw_concurrent_text'] = mysql_df['raw_concurrent_text'].fillna(\"NA_CONCURRENT_TEXT\")\n",
    "mysql_df['raw_recommended_text'] = mysql_df['raw_recommended_text'].fillna(\"NA_RECOMMENDED_TEXT\")"
   ]
  },
  {
   "cell_type": "code",
   "execution_count": 12,
   "metadata": {},
   "outputs": [],
   "source": [
    "mysql_df['raw_standing_text'] = mysql_df['raw_prerequisites_text'].str.extract('(\\w+ standing)', re.IGNORECASE)\n",
    "# fillna\n",
    "mysql_df['raw_standing_text'] = mysql_df['raw_standing_text'].fillna(\"NA_STANDING_TEXT\")\n",
    "\n",
    "def normalize_standing(s):\n",
    "    s = str(s).lower()\n",
    "    if s == \"sophomore standing\":\n",
    "        return \"SO\"\n",
    "    elif s == \"junior standing\":\n",
    "        return \"JR\"\n",
    "    elif s == \"senior standing\":\n",
    "        return \"SR\"\n",
    "    elif s == \"graduate standing\":\n",
    "        return \"GR\"\n",
    "    elif s == \"na_standing_text\":\n",
    "        return \"NA\"\n",
    "    else:\n",
    "        print(\"unexpected s:\", s, \"... returning NA\")\n",
    "        return \"NA\"\n",
    "\n",
    "mysql_df['standing'] = mysql_df['raw_standing_text'].apply(normalize_standing)"
   ]
  },
  {
   "cell_type": "code",
   "execution_count": 13,
   "metadata": {},
   "outputs": [
    {
     "data": {
      "text/plain": [
       "array(['NA', 'SO', 'GR', 'JR'], dtype=object)"
      ]
     },
     "execution_count": 13,
     "metadata": {},
     "output_type": "execute_result"
    }
   ],
   "source": [
    "mysql_df['standing'].unique()  # explect just 'NA', 'SO', 'GR', 'JR'"
   ]
  },
  {
   "cell_type": "markdown",
   "metadata": {},
   "source": [
    "# uh oh we have some bad data `\\xa0` let's fix that...\n",
    "## which turns out to be a blessing in disguise because it helps us split the `dept` vs `courseNum`\n",
    "## let's use `___` to delimit because `___` is not used anywhere else in the course names \n",
    "## we will change it back to a space later"
   ]
  },
  {
   "cell_type": "code",
   "execution_count": 14,
   "metadata": {},
   "outputs": [
    {
     "data": {
      "text/plain": [
       "array(['CPE\\xa0100. Computer Engineering Orientation.',\n",
       "       'CPE\\xa0101. Fundamentals of Computer Science.',\n",
       "       'CPE\\xa0105. Fundamentals of Computer Science I Supplemental Instruction.',\n",
       "       'CPE\\xa0108. Accelerated Introduction to Computer Science.',\n",
       "       'CPE\\xa0123. Introduction to Computing.'], dtype=object)"
      ]
     },
     "execution_count": 14,
     "metadata": {},
     "output_type": "execute_result"
    }
   ],
   "source": [
    "mysql_df['courseName'].values[:5]"
   ]
  },
  {
   "cell_type": "code",
   "execution_count": 15,
   "metadata": {},
   "outputs": [
    {
     "data": {
      "text/plain": [
       "array(['CPE___100. Computer Engineering Orientation.',\n",
       "       'CPE___101. Fundamentals of Computer Science.',\n",
       "       'CPE___105. Fundamentals of Computer Science I Supplemental Instruction.',\n",
       "       'CPE___108. Accelerated Introduction to Computer Science.',\n",
       "       'CPE___123. Introduction to Computing.'], dtype=object)"
      ]
     },
     "execution_count": 15,
     "metadata": {},
     "output_type": "execute_result"
    }
   ],
   "source": [
    "mysql_df['courseName'] = mysql_df['courseName'].str.replace(u'\\xa0', \"___\")\n",
    "mysql_df['courseName'].values[:5]"
   ]
  },
  {
   "cell_type": "markdown",
   "metadata": {},
   "source": [
    "# okay now extract the dept and courseNum"
   ]
  },
  {
   "cell_type": "code",
   "execution_count": 16,
   "metadata": {},
   "outputs": [
    {
     "data": {
      "text/plain": [
       "array(['CPE', 'CSC'], dtype=object)"
      ]
     },
     "execution_count": 16,
     "metadata": {},
     "output_type": "execute_result"
    }
   ],
   "source": [
    "mysql_df['dept'] = mysql_df['courseName'].str.extract('(\\w+(?=___))')\n",
    "mysql_df['dept'].unique()"
   ]
  },
  {
   "cell_type": "code",
   "execution_count": 17,
   "metadata": {},
   "outputs": [
    {
     "data": {
      "text/plain": [
       "array(['100', '101', '105', '108', '123', '133', '200', '202', '203',\n",
       "       '233', '290', '315', '316', '321', '327', '328', '329', '333',\n",
       "       '336', '350', '357', '367', '368', '400', '414', '416', '419',\n",
       "       '422', '426', '428', '431', '432', '439', '441', '442', '446',\n",
       "       '447', '450', '453', '454', '458', '461', '462', '464', '465',\n",
       "       '469', '470', '471', '472', '476', '479', '482', '485', '488',\n",
       "       '493', '494', '495', '515', '521', '522', '523', '532', '541',\n",
       "       '542', '564', '569', '171', '209', '225', '231', '232', '234',\n",
       "       '235', '236', '300', '301', '302', '303', '305', '307', '308',\n",
       "       '309', '310', '311', '313', '320', '323', '325', '344', '348',\n",
       "       '349', '365', '366', '369', '371', '377', '378', '402', '405',\n",
       "       '406', '409', '410', '424', '429', '430', '435', '436', '437',\n",
       "       '445', '448', '466', '468', '473', '474', '477', '478', '480',\n",
       "       '481', '483', '484', '486', '487', '489', '490', '491', '492',\n",
       "       '496', '497', '498', '500', '508', '509', '530', '540', '550',\n",
       "       '560', '566', '570', '572', '580', '581', '582', '590', '593',\n",
       "       '594', '595', '596', '597', '599'], dtype=object)"
      ]
     },
     "execution_count": 17,
     "metadata": {},
     "output_type": "execute_result"
    }
   ],
   "source": [
    "mysql_df['courseNum'] = mysql_df['courseName'].str.extract('((?<=___)\\d+)')\n",
    "mysql_df['courseNum'].unique()  # interesting to see all the unique course numbers"
   ]
  },
  {
   "cell_type": "code",
   "execution_count": 18,
   "metadata": {},
   "outputs": [],
   "source": [
    "# change it back\n",
    "mysql_df['courseName'] = mysql_df['courseName'].str.replace(\"___\", \" \")"
   ]
  },
  {
   "cell_type": "markdown",
   "metadata": {},
   "source": [
    "# also `'F, W, SP'` is bad because our MySQL database uses `SET` which does not expect the whitespace between each element. \n",
    "## we want to change that to `'F,W,SP'`\n",
    "\n",
    "# OH WOW! That's unexpected `TBD` is a termOffered... `¯\\_(ツ)_/¯ `\n",
    "```\n",
    "array(['F', 'F,W,SP', 'TBD', 'F,W,SP,SU', 'F,SP', 'F,W', 'SP', 'W',\n",
    "       'W,SP'], dtype=object)\n",
    "In [20]:\n",
    "```\n"
   ]
  },
  {
   "cell_type": "code",
   "execution_count": 19,
   "metadata": {},
   "outputs": [
    {
     "data": {
      "text/plain": [
       "array(['F', 'F,W,SP', 'TBD', 'F,W,SP,SU', 'F,SP', 'F,W', 'SP', 'W',\n",
       "       'W,SP'], dtype=object)"
      ]
     },
     "execution_count": 19,
     "metadata": {},
     "output_type": "execute_result"
    }
   ],
   "source": [
    "mysql_df['termsOffered'] = mysql_df['termsOffered'].str.replace(' ','')\n",
    "mysql_df['termsOffered'].unique()  # interesting to see all the unique terms offered"
   ]
  },
  {
   "cell_type": "markdown",
   "metadata": {},
   "source": [
    "# wait let's check for bad data inside `units`"
   ]
  },
  {
   "cell_type": "code",
   "execution_count": 20,
   "metadata": {},
   "outputs": [
    {
     "data": {
      "text/plain": [
       "array(['1', '4', '1-2', '1-4', '3', '2', '6', '12', '2-4'], dtype=object)"
      ]
     },
     "execution_count": 20,
     "metadata": {},
     "output_type": "execute_result"
    }
   ],
   "source": [
    "mysql_df['units'].unique()"
   ]
  },
  {
   "cell_type": "markdown",
   "metadata": {},
   "source": [
    "# Oh no! \n",
    "## What does `12` units mean? \n",
    "CSC 495 http://catalog.calpoly.edu/coursesaz/csc/\n",
    "## How do we represent `1-2` units in a MySQL DB?\n",
    "I've changed it to `VARCHAR(5)`"
   ]
  },
  {
   "cell_type": "markdown",
   "metadata": {},
   "source": [
    "# one last bad data check\n",
    "### darn.. how did `nan` get in there?"
   ]
  },
  {
   "cell_type": "code",
   "execution_count": 21,
   "metadata": {},
   "outputs": [
    {
     "data": {
      "text/plain": [
       "array(['NA_CROSS_LIST', nan], dtype=object)"
      ]
     },
     "execution_count": 21,
     "metadata": {},
     "output_type": "execute_result"
    }
   ],
   "source": [
    "mysql_df['crossListedAs'].unique()"
   ]
  },
  {
   "cell_type": "code",
   "execution_count": 22,
   "metadata": {},
   "outputs": [
    {
     "data": {
      "text/plain": [
       "array(['NA_CROSS_LIST'], dtype=object)"
      ]
     },
     "execution_count": 22,
     "metadata": {},
     "output_type": "execute_result"
    }
   ],
   "source": [
    "mysql_df['crossListedAs'] = mysql_df['crossListedAs'].fillna('NA_CROSS_LIST')\n",
    "mysql_df['crossListedAs'].unique()"
   ]
  },
  {
   "cell_type": "code",
   "execution_count": 23,
   "metadata": {},
   "outputs": [
    {
     "data": {
      "text/html": [
       "<div>\n",
       "<style scoped>\n",
       "    .dataframe tbody tr th:only-of-type {\n",
       "        vertical-align: middle;\n",
       "    }\n",
       "\n",
       "    .dataframe tbody tr th {\n",
       "        vertical-align: top;\n",
       "    }\n",
       "\n",
       "    .dataframe thead th {\n",
       "        text-align: right;\n",
       "    }\n",
       "</style>\n",
       "<table border=\"1\" class=\"dataframe\">\n",
       "  <thead>\n",
       "    <tr style=\"text-align: right;\">\n",
       "      <th></th>\n",
       "      <th>courseName</th>\n",
       "      <th>termsOffered</th>\n",
       "      <th>units</th>\n",
       "      <th>raw_concurrent_text</th>\n",
       "      <th>raw_recommended_text</th>\n",
       "      <th>raw_prerequisites_text</th>\n",
       "      <th>crossListedAs</th>\n",
       "      <th>raw_standing_text</th>\n",
       "      <th>standing</th>\n",
       "      <th>dept</th>\n",
       "      <th>courseNum</th>\n",
       "    </tr>\n",
       "  </thead>\n",
       "  <tbody>\n",
       "    <tr>\n",
       "      <th>93</th>\n",
       "      <td>CPE 100. Computer Engineering Orientation.</td>\n",
       "      <td>F</td>\n",
       "      <td>1</td>\n",
       "      <td>NA_CONCURRENT_TEXT</td>\n",
       "      <td>NA_RECOMMENDED_TEXT</td>\n",
       "      <td>NA_PREREQUISITE_TEXT</td>\n",
       "      <td>NA_CROSS_LIST</td>\n",
       "      <td>NA_STANDING_TEXT</td>\n",
       "      <td>NA</td>\n",
       "      <td>CPE</td>\n",
       "      <td>100</td>\n",
       "    </tr>\n",
       "    <tr>\n",
       "      <th>94</th>\n",
       "      <td>CPE 101. Fundamentals of Computer Science.</td>\n",
       "      <td>F,W,SP</td>\n",
       "      <td>4</td>\n",
       "      <td>NA_CONCURRENT_TEXT</td>\n",
       "      <td>NA_RECOMMENDED_TEXT</td>\n",
       "      <td>Appropriate Math Placement Level; or MATH 117 ...</td>\n",
       "      <td>NA_CROSS_LIST</td>\n",
       "      <td>NA_STANDING_TEXT</td>\n",
       "      <td>NA</td>\n",
       "      <td>CPE</td>\n",
       "      <td>101</td>\n",
       "    </tr>\n",
       "    <tr>\n",
       "      <th>95</th>\n",
       "      <td>CPE 105. Fundamentals of Computer Science I Su...</td>\n",
       "      <td>TBD</td>\n",
       "      <td>1</td>\n",
       "      <td>CPE/CSC 101.</td>\n",
       "      <td>NA_RECOMMENDED_TEXT</td>\n",
       "      <td>NA_PREREQUISITE_TEXT</td>\n",
       "      <td>NA_CROSS_LIST</td>\n",
       "      <td>NA_STANDING_TEXT</td>\n",
       "      <td>NA</td>\n",
       "      <td>CPE</td>\n",
       "      <td>105</td>\n",
       "    </tr>\n",
       "    <tr>\n",
       "      <th>96</th>\n",
       "      <td>CPE 108. Accelerated Introduction to Computer ...</td>\n",
       "      <td>TBD</td>\n",
       "      <td>4</td>\n",
       "      <td>NA_CONCURRENT_TEXT</td>\n",
       "      <td>NA_RECOMMENDED_TEXT</td>\n",
       "      <td>MATH 118 (or equivalent) with a grade of C- or...</td>\n",
       "      <td>NA_CROSS_LIST</td>\n",
       "      <td>NA_STANDING_TEXT</td>\n",
       "      <td>NA</td>\n",
       "      <td>CPE</td>\n",
       "      <td>108</td>\n",
       "    </tr>\n",
       "    <tr>\n",
       "      <th>97</th>\n",
       "      <td>CPE 123. Introduction to Computing.</td>\n",
       "      <td>F</td>\n",
       "      <td>4</td>\n",
       "      <td>NA_CONCURRENT_TEXT</td>\n",
       "      <td>NA_RECOMMENDED_TEXT</td>\n",
       "      <td>Basic computer literacy.</td>\n",
       "      <td>NA_CROSS_LIST</td>\n",
       "      <td>NA_STANDING_TEXT</td>\n",
       "      <td>NA</td>\n",
       "      <td>CPE</td>\n",
       "      <td>123</td>\n",
       "    </tr>\n",
       "  </tbody>\n",
       "</table>\n",
       "</div>"
      ],
      "text/plain": [
       "                                           courseName termsOffered units  \\\n",
       "93         CPE 100. Computer Engineering Orientation.            F     1   \n",
       "94         CPE 101. Fundamentals of Computer Science.       F,W,SP     4   \n",
       "95  CPE 105. Fundamentals of Computer Science I Su...          TBD     1   \n",
       "96  CPE 108. Accelerated Introduction to Computer ...          TBD     4   \n",
       "97                CPE 123. Introduction to Computing.            F     4   \n",
       "\n",
       "   raw_concurrent_text raw_recommended_text  \\\n",
       "93  NA_CONCURRENT_TEXT  NA_RECOMMENDED_TEXT   \n",
       "94  NA_CONCURRENT_TEXT  NA_RECOMMENDED_TEXT   \n",
       "95        CPE/CSC 101.  NA_RECOMMENDED_TEXT   \n",
       "96  NA_CONCURRENT_TEXT  NA_RECOMMENDED_TEXT   \n",
       "97  NA_CONCURRENT_TEXT  NA_RECOMMENDED_TEXT   \n",
       "\n",
       "                               raw_prerequisites_text  crossListedAs  \\\n",
       "93                               NA_PREREQUISITE_TEXT  NA_CROSS_LIST   \n",
       "94  Appropriate Math Placement Level; or MATH 117 ...  NA_CROSS_LIST   \n",
       "95                               NA_PREREQUISITE_TEXT  NA_CROSS_LIST   \n",
       "96  MATH 118 (or equivalent) with a grade of C- or...  NA_CROSS_LIST   \n",
       "97                           Basic computer literacy.  NA_CROSS_LIST   \n",
       "\n",
       "   raw_standing_text standing dept courseNum  \n",
       "93  NA_STANDING_TEXT       NA  CPE       100  \n",
       "94  NA_STANDING_TEXT       NA  CPE       101  \n",
       "95  NA_STANDING_TEXT       NA  CPE       105  \n",
       "96  NA_STANDING_TEXT       NA  CPE       108  \n",
       "97  NA_STANDING_TEXT       NA  CPE       123  "
      ]
     },
     "execution_count": 23,
     "metadata": {},
     "output_type": "execute_result"
    }
   ],
   "source": [
    "mysql_df.head()"
   ]
  },
  {
   "cell_type": "markdown",
   "metadata": {},
   "source": [
    "# Okay let's make the inserts\n",
    "## **Notice** `courseId` is not needed because the database will _auto increment_ the `courseId`\n",
    "## e.g.\n",
    "```mysql\n",
    "INSERT INTO `Courses` \n",
    "(`courseId`, `dept`, `courseNum`, `termsOffered`, `units`, \n",
    "`courseName`, `concurrent`, `recommended`, `crossListedAs`, \n",
    "`standing`) \n",
    "VALUES \n",
    "(5,'DEPT',777,'SU',127,'HALF A DEGREEE','NA','NA','DEPT 666','NA');\n",
    "```"
   ]
  },
  {
   "cell_type": "code",
   "execution_count": 24,
   "metadata": {},
   "outputs": [],
   "source": [
    "# https://stackoverflow.com/questions/31071952/generate-sql-statements-from-a-pandas-dataframe\n",
    "def SQL_INSERT_STATEMENT_FROM_DATAFRAME(SOURCE, TARGET):\n",
    "    sql_texts = []\n",
    "    for index, row in SOURCE.iterrows():\n",
    "        sql_texts.append('INSERT INTO `'+TARGET+'` (`'+ str('`, `'.join(SOURCE.columns))+ '`) VALUES '+ str(tuple(row.values)))\n",
    "    return sql_texts"
   ]
  },
  {
   "cell_type": "code",
   "execution_count": 25,
   "metadata": {},
   "outputs": [
    {
     "data": {
      "text/plain": [
       "Index(['courseName', 'termsOffered', 'units', 'raw_concurrent_text',\n",
       "       'raw_recommended_text', 'raw_prerequisites_text', 'crossListedAs',\n",
       "       'raw_standing_text', 'standing', 'dept', 'courseNum'],\n",
       "      dtype='object')"
      ]
     },
     "execution_count": 25,
     "metadata": {},
     "output_type": "execute_result"
    }
   ],
   "source": [
    "mysql_df.columns"
   ]
  },
  {
   "cell_type": "markdown",
   "metadata": {},
   "source": [
    "# actually I modified the database a bit so our dataframe just simply fits...\n",
    "```mysql\n",
    "INSERT INTO `Courses` (`courseId`, `dept`, `courseNum`, `termsOffered`, `units`, `courseName`, `raw_concurrent_text`, `raw_recommended_text`, `raw_prerequisites_text`, `raw_standing_text`, `crossListedAs`, `standing`)\n",
    "VALUES\n",
    "\t(2, 'CSC', 357, 'F,W,SP', 4, 'CSC 357. Systems Programming.', 'NA', 'NA', NULL, NULL, 'CPE 357', 'NA');\n",
    "```"
   ]
  },
  {
   "cell_type": "markdown",
   "metadata": {},
   "source": [
    "# Here are the INSERT statements"
   ]
  },
  {
   "cell_type": "code",
   "execution_count": 26,
   "metadata": {},
   "outputs": [
    {
     "name": "stdout",
     "output_type": "stream",
     "text": [
      "INSERT INTO `Courses` (`courseName`, `termsOffered`, `units`, `raw_concurrent_text`, `raw_recommended_text`, `raw_prerequisites_text`, `crossListedAs`, `raw_standing_text`, `standing`, `dept`, `courseNum`) VALUES ('CPE 100. Computer Engineering Orientation.', 'F', '1', 'NA_CONCURRENT_TEXT', 'NA_RECOMMENDED_TEXT', 'NA_PREREQUISITE_TEXT', 'NA_CROSS_LIST', 'NA_STANDING_TEXT', 'NA', 'CPE', '100');\n",
      "\n",
      "INSERT INTO `Courses` (`courseName`, `termsOffered`, `units`, `raw_concurrent_text`, `raw_recommended_text`, `raw_prerequisites_text`, `crossListedAs`, `raw_standing_text`, `standing`, `dept`, `courseNum`) VALUES ('CPE 101. Fundamentals of Computer Science.', 'F,W,SP', '4', 'NA_CONCURRENT_TEXT', 'NA_RECOMMENDED_TEXT', 'Appropriate Math Placement Level; or MATH 117 with a grade of C- or better; or MATH 118 with a grade of C- or better; or consent of instructor.', 'NA_CROSS_LIST', 'NA_STANDING_TEXT', 'NA', 'CPE', '101');\n",
      "\n",
      "INSERT INTO `Courses` (`courseName`, `termsOffered`, `units`, `raw_concurrent_text`, `raw_recommended_text`, `raw_prerequisites_text`, `crossListedAs`, `raw_standing_text`, `standing`, `dept`, `courseNum`) VALUES ('CPE 105. Fundamentals of Computer Science I Supplemental Instruction.', 'TBD', '1', 'CPE/CSC 101.', 'NA_RECOMMENDED_TEXT', 'NA_PREREQUISITE_TEXT', 'NA_CROSS_LIST', 'NA_STANDING_TEXT', 'NA', 'CPE', '105');\n",
      "\n",
      "INSERT INTO `Courses` (`courseName`, `termsOffered`, `units`, `raw_concurrent_text`, `raw_recommended_text`, `raw_prerequisites_text`, `crossListedAs`, `raw_standing_text`, `standing`, `dept`, `courseNum`) VALUES ('CPE 108. Accelerated Introduction to Computer Science.', 'TBD', '4', 'NA_CONCURRENT_TEXT', 'NA_RECOMMENDED_TEXT', 'MATH 118 (or equivalent) with a grade of C- or better, significant experience in computer programming, and consent of instructor.', 'NA_CROSS_LIST', 'NA_STANDING_TEXT', 'NA', 'CPE', '108');\n",
      "\n",
      "INSERT INTO `Courses` (`courseName`, `termsOffered`, `units`, `raw_concurrent_text`, `raw_recommended_text`, `raw_prerequisites_text`, `crossListedAs`, `raw_standing_text`, `standing`, `dept`, `courseNum`) VALUES ('CPE 123. Introduction to Computing.', 'F', '4', 'NA_CONCURRENT_TEXT', 'NA_RECOMMENDED_TEXT', 'Basic computer literacy.', 'NA_CROSS_LIST', 'NA_STANDING_TEXT', 'NA', 'CPE', '123');\n",
      "\n",
      "INSERT INTO `Courses` (`courseName`, `termsOffered`, `units`, `raw_concurrent_text`, `raw_recommended_text`, `raw_prerequisites_text`, `crossListedAs`, `raw_standing_text`, `standing`, `dept`, `courseNum`) VALUES ('CPE 133. Digital Design.', 'F,W,SP,SU', '4', 'NA_CONCURRENT_TEXT', 'NA_RECOMMENDED_TEXT', \"An orientation course in student's major (EE 111 and EE 151; or CPE 100) and CPE/CSC 101.\", 'NA_CROSS_LIST', 'NA_STANDING_TEXT', 'NA', 'CPE', '133');\n",
      "\n",
      "INSERT INTO `Courses` (`courseName`, `termsOffered`, `units`, `raw_concurrent_text`, `raw_recommended_text`, `raw_prerequisites_text`, `crossListedAs`, `raw_standing_text`, `standing`, `dept`, `courseNum`) VALUES ('CPE 200. Special Problems for Undergraduates.', 'F,W,SP,SU', '1-2', 'NA_CONCURRENT_TEXT', 'NA_RECOMMENDED_TEXT', 'Consent of instructor.', 'NA_CROSS_LIST', 'NA_STANDING_TEXT', 'NA', 'CPE', '200');\n",
      "\n",
      "INSERT INTO `Courses` (`courseName`, `termsOffered`, `units`, `raw_concurrent_text`, `raw_recommended_text`, `raw_prerequisites_text`, `crossListedAs`, `raw_standing_text`, `standing`, `dept`, `courseNum`) VALUES ('CPE 202. Data Structures.', 'F,W,SP', '4', 'NA_CONCURRENT_TEXT', 'NA_RECOMMENDED_TEXT', 'CPE/CSC 101 with a grade of C- or better; MATH 141 or MATH 221 with a grade of C- or better; or consent of instructor.', 'NA_CROSS_LIST', 'NA_STANDING_TEXT', 'NA', 'CPE', '202');\n",
      "\n",
      "INSERT INTO `Courses` (`courseName`, `termsOffered`, `units`, `raw_concurrent_text`, `raw_recommended_text`, `raw_prerequisites_text`, `crossListedAs`, `raw_standing_text`, `standing`, `dept`, `courseNum`) VALUES ('CPE 203. Project-Based Object-Oriented Programming and Design.', 'F,W,SP', '4', 'NA_CONCURRENT_TEXT', 'NA_RECOMMENDED_TEXT', 'CPE/CSC 202 with a grade of C- or better or consent of instructor.', 'NA_CROSS_LIST', 'NA_STANDING_TEXT', 'NA', 'CPE', '203');\n",
      "\n",
      "INSERT INTO `Courses` (`courseName`, `termsOffered`, `units`, `raw_concurrent_text`, `raw_recommended_text`, `raw_prerequisites_text`, `crossListedAs`, `raw_standing_text`, `standing`, `dept`, `courseNum`) VALUES ('CPE 233. Computer Design and Assembly Language Programming.', 'F,W,SP', '4', 'NA_CONCURRENT_TEXT', 'NA_RECOMMENDED_TEXT', 'CPE/EE 133.', 'NA_CROSS_LIST', 'NA_STANDING_TEXT', 'NA', 'CPE', '233');\n",
      "\n",
      "INSERT INTO `Courses` (`courseName`, `termsOffered`, `units`, `raw_concurrent_text`, `raw_recommended_text`, `raw_prerequisites_text`, `crossListedAs`, `raw_standing_text`, `standing`, `dept`, `courseNum`) VALUES ('CPE 290. Selected Topics.', 'TBD', '1-4', 'NA_CONCURRENT_TEXT', 'NA_RECOMMENDED_TEXT', 'Open to undergraduate students and consent of instructor.', 'NA_CROSS_LIST', 'NA_STANDING_TEXT', 'NA', 'CPE', '290');\n",
      "\n",
      "INSERT INTO `Courses` (`courseName`, `termsOffered`, `units`, `raw_concurrent_text`, `raw_recommended_text`, `raw_prerequisites_text`, `crossListedAs`, `raw_standing_text`, `standing`, `dept`, `courseNum`) VALUES ('CPE 315. Computer Architecture.', 'F,W,SP', '4', 'NA_CONCURRENT_TEXT', 'NA_RECOMMENDED_TEXT', 'CSC/CPE 102 and CSC/CPE 103, or CSC/CPE 202 and CSC/CPE 203; and one of the CSC 225, CPE/EE 229, or CPE/EE 233.', 'NA_CROSS_LIST', 'NA_STANDING_TEXT', 'NA', 'CPE', '315');\n",
      "\n",
      "INSERT INTO `Courses` (`courseName`, `termsOffered`, `units`, `raw_concurrent_text`, `raw_recommended_text`, `raw_prerequisites_text`, `crossListedAs`, `raw_standing_text`, `standing`, `dept`, `courseNum`) VALUES ('CPE 316. Microcontrollers and Embedded Applications.', 'F,SP', '4', 'NA_CONCURRENT_TEXT', 'NA_RECOMMENDED_TEXT', 'CPE 357.', 'NA_CROSS_LIST', 'NA_STANDING_TEXT', 'NA', 'CPE', '316');\n",
      "\n",
      "INSERT INTO `Courses` (`courseName`, `termsOffered`, `units`, `raw_concurrent_text`, `raw_recommended_text`, `raw_prerequisites_text`, `crossListedAs`, `raw_standing_text`, `standing`, `dept`, `courseNum`) VALUES ('CPE 321. Introduction to Computer Security.', 'F,W', '4', 'NA_CONCURRENT_TEXT', 'NA_RECOMMENDED_TEXT', 'CPE/CSC 357.', 'NA_CROSS_LIST', 'NA_STANDING_TEXT', 'NA', 'CPE', '321');\n",
      "\n",
      "INSERT INTO `Courses` (`courseName`, `termsOffered`, `units`, `raw_concurrent_text`, `raw_recommended_text`, `raw_prerequisites_text`, `crossListedAs`, `raw_standing_text`, `standing`, `dept`, `courseNum`) VALUES ('CPE 327. Digital Signals and Systems.', 'F,W', '3', 'CPE 367.', 'NA_RECOMMENDED_TEXT', 'EE 212, MATH 244.', 'NA_CROSS_LIST', 'NA_STANDING_TEXT', 'NA', 'CPE', '327');\n",
      "\n",
      "INSERT INTO `Courses` (`courseName`, `termsOffered`, `units`, `raw_concurrent_text`, `raw_recommended_text`, `raw_prerequisites_text`, `crossListedAs`, `raw_standing_text`, `standing`, `dept`, `courseNum`) VALUES ('CPE 328. Discrete Time Signals and Systems.', 'F,W,SP', '3', 'CPE/EE 368.', 'NA_RECOMMENDED_TEXT', 'BMED 355 or EE 228.', 'NA_CROSS_LIST', 'NA_STANDING_TEXT', 'NA', 'CPE', '328');\n",
      "\n",
      "INSERT INTO `Courses` (`courseName`, `termsOffered`, `units`, `raw_concurrent_text`, `raw_recommended_text`, `raw_prerequisites_text`, `crossListedAs`, `raw_standing_text`, `standing`, `dept`, `courseNum`) VALUES ('CPE 329. Microcontroller-Based Systems Design.', 'F,SP', '4', 'NA_CONCURRENT_TEXT', 'NA_RECOMMENDED_TEXT', 'EE 307 & EE 347, EE 229 & EE 269 or CPE/EE 233.', 'NA_CROSS_LIST', 'NA_STANDING_TEXT', 'NA', 'CPE', '329');\n",
      "\n",
      "INSERT INTO `Courses` (`courseName`, `termsOffered`, `units`, `raw_concurrent_text`, `raw_recommended_text`, `raw_prerequisites_text`, `crossListedAs`, `raw_standing_text`, `standing`, `dept`, `courseNum`) VALUES ('CPE 333. Computer Hardware Architecture and Design.', 'SP', '4', 'NA_CONCURRENT_TEXT', 'NA_RECOMMENDED_TEXT', 'CPE 101, CPE 233.', 'NA_CROSS_LIST', 'NA_STANDING_TEXT', 'NA', 'CPE', '333');\n",
      "\n",
      "INSERT INTO `Courses` (`courseName`, `termsOffered`, `units`, `raw_concurrent_text`, `raw_recommended_text`, `raw_prerequisites_text`, `crossListedAs`, `raw_standing_text`, `standing`, `dept`, `courseNum`) VALUES ('CPE 336. Microprocessor System Design.', 'F,SP', '4', 'NA_CONCURRENT_TEXT', 'NA_RECOMMENDED_TEXT', 'CPE/EE 233.', 'NA_CROSS_LIST', 'NA_STANDING_TEXT', 'NA', 'CPE', '336');\n",
      "\n",
      "INSERT INTO `Courses` (`courseName`, `termsOffered`, `units`, `raw_concurrent_text`, `raw_recommended_text`, `raw_prerequisites_text`, `crossListedAs`, `raw_standing_text`, `standing`, `dept`, `courseNum`) VALUES ('CPE 350. Capstone I.', 'F', '4', 'NA_CONCURRENT_TEXT', 'NA_RECOMMENDED_TEXT', 'NA_PREREQUISITE_TEXT', 'NA_CROSS_LIST', 'NA_STANDING_TEXT', 'NA', 'CPE', '350');\n",
      "\n",
      "INSERT INTO `Courses` (`courseName`, `termsOffered`, `units`, `raw_concurrent_text`, `raw_recommended_text`, `raw_prerequisites_text`, `crossListedAs`, `raw_standing_text`, `standing`, `dept`, `courseNum`) VALUES ('CPE 357. Systems Programming.', 'F,W,SP', '4', 'NA_CONCURRENT_TEXT', 'NA_RECOMMENDED_TEXT', 'CSC/CPE 102 and CSC/CPE 103 with a grade of C- or better or consent of instructor, or CSC/CPE 202 and CSC/CPE 203 with a grade of C- or better or consent of instructor; and CSC 225 or CPE/EE 229 or CPE/EE 233.', 'NA_CROSS_LIST', 'NA_STANDING_TEXT', 'NA', 'CPE', '357');\n",
      "\n",
      "INSERT INTO `Courses` (`courseName`, `termsOffered`, `units`, `raw_concurrent_text`, `raw_recommended_text`, `raw_prerequisites_text`, `crossListedAs`, `raw_standing_text`, `standing`, `dept`, `courseNum`) VALUES ('CPE 367. Digital Signals and Systems Laboratory.', 'F,W', '1', 'CPE 327.', 'NA_RECOMMENDED_TEXT', 'EE 242.', 'NA_CROSS_LIST', 'NA_STANDING_TEXT', 'NA', 'CPE', '367');\n",
      "\n",
      "INSERT INTO `Courses` (`courseName`, `termsOffered`, `units`, `raw_concurrent_text`, `raw_recommended_text`, `raw_prerequisites_text`, `crossListedAs`, `raw_standing_text`, `standing`, `dept`, `courseNum`) VALUES ('CPE 368. Signals and Systems Laboratory.', 'F,W,SP', '1', 'CPE/EE 328.', 'NA_RECOMMENDED_TEXT', 'BMED 355 or EE 228.', 'NA_CROSS_LIST', 'NA_STANDING_TEXT', 'NA', 'CPE', '368');\n",
      "\n",
      "INSERT INTO `Courses` (`courseName`, `termsOffered`, `units`, `raw_concurrent_text`, `raw_recommended_text`, `raw_prerequisites_text`, `crossListedAs`, `raw_standing_text`, `standing`, `dept`, `courseNum`) VALUES ('CPE 400. Special Problems for Undergraduates.', 'F,W,SP,SU', '1-4', 'NA_CONCURRENT_TEXT', 'NA_RECOMMENDED_TEXT', 'Consent of instructor.', 'NA_CROSS_LIST', 'NA_STANDING_TEXT', 'NA', 'CPE', '400');\n",
      "\n",
      "INSERT INTO `Courses` (`courseName`, `termsOffered`, `units`, `raw_concurrent_text`, `raw_recommended_text`, `raw_prerequisites_text`, `crossListedAs`, `raw_standing_text`, `standing`, `dept`, `courseNum`) VALUES ('CPE 414. Robotic Systems Integration.', 'W', '4', 'NA_CONCURRENT_TEXT', 'NA_RECOMMENDED_TEXT', 'EE/CPE 329 or EE/CPE 336 or CSC/CPE 357 or ME 305.', 'NA_CROSS_LIST', 'NA_STANDING_TEXT', 'NA', 'CPE', '414');\n",
      "\n",
      "INSERT INTO `Courses` (`courseName`, `termsOffered`, `units`, `raw_concurrent_text`, `raw_recommended_text`, `raw_prerequisites_text`, `crossListedAs`, `raw_standing_text`, `standing`, `dept`, `courseNum`) VALUES ('CPE 416. Autonomous Mobile Robotics.', 'TBD', '4', 'NA_CONCURRENT_TEXT', 'NA_RECOMMENDED_TEXT', 'CPE/EE 329 or CPE/EE 336 or both CPE 315 and CPE/CSC 357.', 'NA_CROSS_LIST', 'NA_STANDING_TEXT', 'NA', 'CPE', '416');\n",
      "\n",
      "INSERT INTO `Courses` (`courseName`, `termsOffered`, `units`, `raw_concurrent_text`, `raw_recommended_text`, `raw_prerequisites_text`, `crossListedAs`, `raw_standing_text`, `standing`, `dept`, `courseNum`) VALUES ('CPE 419. Applied Parallel Computing.', 'TBD', '4', 'NA_CONCURRENT_TEXT', 'CPE 315.', 'CPE/CSC 357.', 'NA_CROSS_LIST', 'NA_STANDING_TEXT', 'NA', 'CPE', '419');\n",
      "\n",
      "INSERT INTO `Courses` (`courseName`, `termsOffered`, `units`, `raw_concurrent_text`, `raw_recommended_text`, `raw_prerequisites_text`, `crossListedAs`, `raw_standing_text`, `standing`, `dept`, `courseNum`) VALUES ('CPE 422. Network and Web Security.', 'SP', '4', 'NA_CONCURRENT_TEXT', 'NA_RECOMMENDED_TEXT', 'CPE 464.', 'NA_CROSS_LIST', 'NA_STANDING_TEXT', 'NA', 'CPE', '422');\n",
      "\n",
      "INSERT INTO `Courses` (`courseName`, `termsOffered`, `units`, `raw_concurrent_text`, `raw_recommended_text`, `raw_prerequisites_text`, `crossListedAs`, `raw_standing_text`, `standing`, `dept`, `courseNum`) VALUES ('CPE 426. Introduction to Hardware Security.', 'SP', '4', 'NA_CONCURRENT_TEXT', 'NA_RECOMMENDED_TEXT', 'CPE 315 or CPE 333; and CPE 233.', 'NA_CROSS_LIST', 'NA_STANDING_TEXT', 'NA', 'CPE', '426');\n",
      "\n",
      "INSERT INTO `Courses` (`courseName`, `termsOffered`, `units`, `raw_concurrent_text`, `raw_recommended_text`, `raw_prerequisites_text`, `crossListedAs`, `raw_standing_text`, `standing`, `dept`, `courseNum`) VALUES ('CPE 428. Computer Vision.', 'W', '4', 'NA_CONCURRENT_TEXT', 'NA_RECOMMENDED_TEXT', 'CPE 327 or CPE/CSC 357 or EE 328 or ME 305.', 'NA_CROSS_LIST', 'NA_STANDING_TEXT', 'NA', 'CPE', '428');\n",
      "\n",
      "INSERT INTO `Courses` (`courseName`, `termsOffered`, `units`, `raw_concurrent_text`, `raw_recommended_text`, `raw_prerequisites_text`, `crossListedAs`, `raw_standing_text`, `standing`, `dept`, `courseNum`) VALUES ('CPE 431. Compiler Construction.', 'F,W,SP', '4', 'NA_CONCURRENT_TEXT', 'NA_RECOMMENDED_TEXT', 'CSC 430.', 'NA_CROSS_LIST', 'NA_STANDING_TEXT', 'NA', 'CPE', '431');\n",
      "\n",
      "INSERT INTO `Courses` (`courseName`, `termsOffered`, `units`, `raw_concurrent_text`, `raw_recommended_text`, `raw_prerequisites_text`, `crossListedAs`, `raw_standing_text`, `standing`, `dept`, `courseNum`) VALUES ('CPE 432. Digital Control Systems.', 'F', '3', 'CPE/EE 472.', 'EE 328 and EE 368.', 'EE 302 and EE 342; or CPE 327 and CPE 367.', 'NA_CROSS_LIST', 'NA_STANDING_TEXT', 'NA', 'CPE', '432');\n",
      "\n",
      "INSERT INTO `Courses` (`courseName`, `termsOffered`, `units`, `raw_concurrent_text`, `raw_recommended_text`, `raw_prerequisites_text`, `crossListedAs`, `raw_standing_text`, `standing`, `dept`, `courseNum`) VALUES ('CPE 439. Introduction to Real-Time Operating Systems.', 'F', '4', 'NA_CONCURRENT_TEXT', 'NA_RECOMMENDED_TEXT', 'CPE/EE 329 or CPE/EE 336.', 'NA_CROSS_LIST', 'NA_STANDING_TEXT', 'NA', 'CPE', '439');\n",
      "\n",
      "INSERT INTO `Courses` (`courseName`, `termsOffered`, `units`, `raw_concurrent_text`, `raw_recommended_text`, `raw_prerequisites_text`, `crossListedAs`, `raw_standing_text`, `standing`, `dept`, `courseNum`) VALUES ('CPE 441. Computer-Aided Design of VLSI Devices.', 'F', '4', 'NA_CONCURRENT_TEXT', 'EE 308 and EE 348, for students interested in analog design.', 'EE 307 and EE 347.', 'NA_CROSS_LIST', 'NA_STANDING_TEXT', 'NA', 'CPE', '441');\n",
      "\n",
      "INSERT INTO `Courses` (`courseName`, `termsOffered`, `units`, `raw_concurrent_text`, `raw_recommended_text`, `raw_prerequisites_text`, `crossListedAs`, `raw_standing_text`, `standing`, `dept`, `courseNum`) VALUES ('CPE 442. Real Time Embedded Systems.', 'F', '4', 'NA_CONCURRENT_TEXT', 'NA_RECOMMENDED_TEXT', 'CPE/EE 329 or CPE/EE 336 or CPE 316.', 'NA_CROSS_LIST', 'NA_STANDING_TEXT', 'NA', 'CPE', '442');\n",
      "\n",
      "INSERT INTO `Courses` (`courseName`, `termsOffered`, `units`, `raw_concurrent_text`, `raw_recommended_text`, `raw_prerequisites_text`, `crossListedAs`, `raw_standing_text`, `standing`, `dept`, `courseNum`) VALUES ('CPE 446. Design of Fault-Tolerant Digital Systems.', 'F', '4', 'NA_CONCURRENT_TEXT', 'STAT 350.', 'CPE/EE 329 or CPE/EE 336 or CPE 316.', 'NA_CROSS_LIST', 'NA_STANDING_TEXT', 'NA', 'CPE', '446');\n",
      "\n",
      "INSERT INTO `Courses` (`courseName`, `termsOffered`, `units`, `raw_concurrent_text`, `raw_recommended_text`, `raw_prerequisites_text`, `crossListedAs`, `raw_standing_text`, `standing`, `dept`, `courseNum`) VALUES ('CPE 447. Stringed Musical Instrument Acoustics, Mechanics, and Transducer Design.', 'W', '4', 'NA_CONCURRENT_TEXT', 'NA_RECOMMENDED_TEXT', 'EE/CPE 329 or EE/CPE 336 or CPE 316 or ME 305.', 'NA_CROSS_LIST', 'NA_STANDING_TEXT', 'NA', 'CPE', '447');\n",
      "\n",
      "INSERT INTO `Courses` (`courseName`, `termsOffered`, `units`, `raw_concurrent_text`, `raw_recommended_text`, `raw_prerequisites_text`, `crossListedAs`, `raw_standing_text`, `standing`, `dept`, `courseNum`) VALUES ('CPE 450. Capstone II.', 'W', '3', 'NA_CONCURRENT_TEXT', 'NA_RECOMMENDED_TEXT', 'CPE 350.', 'NA_CROSS_LIST', 'NA_STANDING_TEXT', 'NA', 'CPE', '450');\n",
      "\n",
      "INSERT INTO `Courses` (`courseName`, `termsOffered`, `units`, `raw_concurrent_text`, `raw_recommended_text`, `raw_prerequisites_text`, `crossListedAs`, `raw_standing_text`, `standing`, `dept`, `courseNum`) VALUES ('CPE 453. Introduction to Operating Systems.', 'F,W,SP', '4', 'NA_CONCURRENT_TEXT', 'NA_RECOMMENDED_TEXT', 'CSC/CPE 357, and CSC/CPE 225 or CPE/EE 229 or CPE/EE 233.', 'NA_CROSS_LIST', 'NA_STANDING_TEXT', 'NA', 'CPE', '453');\n",
      "\n",
      "INSERT INTO `Courses` (`courseName`, `termsOffered`, `units`, `raw_concurrent_text`, `raw_recommended_text`, `raw_prerequisites_text`, `crossListedAs`, `raw_standing_text`, `standing`, `dept`, `courseNum`) VALUES ('CPE 454. Implementation of Operating Systems.', 'TBD', '4', 'NA_CONCURRENT_TEXT', 'NA_RECOMMENDED_TEXT', 'CSC/CPE 453.', 'NA_CROSS_LIST', 'NA_STANDING_TEXT', 'NA', 'CPE', '454');\n",
      "\n",
      "INSERT INTO `Courses` (`courseName`, `termsOffered`, `units`, `raw_concurrent_text`, `raw_recommended_text`, `raw_prerequisites_text`, `crossListedAs`, `raw_standing_text`, `standing`, `dept`, `courseNum`) VALUES ('CPE 458. Current Topics in Computer Systems.', 'TBD', '4', 'NA_CONCURRENT_TEXT', 'NA_RECOMMENDED_TEXT', 'CSC/CPE 357.', 'NA_CROSS_LIST', 'NA_STANDING_TEXT', 'NA', 'CPE', '458');\n",
      "\n",
      "INSERT INTO `Courses` (`courseName`, `termsOffered`, `units`, `raw_concurrent_text`, `raw_recommended_text`, `raw_prerequisites_text`, `crossListedAs`, `raw_standing_text`, `standing`, `dept`, `courseNum`) VALUES ('CPE 461. Senior Project I.', 'F,W,SP,SU', '3', 'NA_CONCURRENT_TEXT', 'NA_RECOMMENDED_TEXT', 'CPE 350.', 'NA_CROSS_LIST', 'NA_STANDING_TEXT', 'NA', 'CPE', '461');\n",
      "\n",
      "INSERT INTO `Courses` (`courseName`, `termsOffered`, `units`, `raw_concurrent_text`, `raw_recommended_text`, `raw_prerequisites_text`, `crossListedAs`, `raw_standing_text`, `standing`, `dept`, `courseNum`) VALUES ('CPE 462. Senior Project II.', 'F,W,SP,SU', '2', 'NA_CONCURRENT_TEXT', 'NA_RECOMMENDED_TEXT', 'CPE 450.', 'NA_CROSS_LIST', 'NA_STANDING_TEXT', 'NA', 'CPE', '462');\n",
      "\n",
      "INSERT INTO `Courses` (`courseName`, `termsOffered`, `units`, `raw_concurrent_text`, `raw_recommended_text`, `raw_prerequisites_text`, `crossListedAs`, `raw_standing_text`, `standing`, `dept`, `courseNum`) VALUES ('CPE 464. Introduction to Computer Networks.', 'F,W,SP', '4', 'NA_CONCURRENT_TEXT', 'STAT 312 or STAT 321 or STAT 350.', 'CSC/CPE 357.', 'NA_CROSS_LIST', 'NA_STANDING_TEXT', 'NA', 'CPE', '464');\n",
      "\n",
      "INSERT INTO `Courses` (`courseName`, `termsOffered`, `units`, `raw_concurrent_text`, `raw_recommended_text`, `raw_prerequisites_text`, `crossListedAs`, `raw_standing_text`, `standing`, `dept`, `courseNum`) VALUES ('CPE 465. Advanced Computer Networks.', 'TBD', '4', 'NA_CONCURRENT_TEXT', 'NA_RECOMMENDED_TEXT', 'CSC/CPE 453 and CPE 464.', 'NA_CROSS_LIST', 'NA_STANDING_TEXT', 'NA', 'CPE', '465');\n",
      "\n",
      "INSERT INTO `Courses` (`courseName`, `termsOffered`, `units`, `raw_concurrent_text`, `raw_recommended_text`, `raw_prerequisites_text`, `crossListedAs`, `raw_standing_text`, `standing`, `dept`, `courseNum`) VALUES ('CPE 469. Distributed Systems.', 'F', '4', 'NA_CONCURRENT_TEXT', 'NA_RECOMMENDED_TEXT', 'CSC/CPE 357.', 'NA_CROSS_LIST', 'NA_STANDING_TEXT', 'NA', 'CPE', '469');\n",
      "\n",
      "INSERT INTO `Courses` (`courseName`, `termsOffered`, `units`, `raw_concurrent_text`, `raw_recommended_text`, `raw_prerequisites_text`, `crossListedAs`, `raw_standing_text`, `standing`, `dept`, `courseNum`) VALUES ('CPE 470. Selected Advanced Topics.', 'TBD', '1-4', 'NA_CONCURRENT_TEXT', 'NA_RECOMMENDED_TEXT', 'Consent of instructor.', 'NA_CROSS_LIST', 'NA_STANDING_TEXT', 'NA', 'CPE', '470');\n",
      "\n",
      "INSERT INTO `Courses` (`courseName`, `termsOffered`, `units`, `raw_concurrent_text`, `raw_recommended_text`, `raw_prerequisites_text`, `crossListedAs`, `raw_standing_text`, `standing`, `dept`, `courseNum`) VALUES ('CPE 471. Introduction to Computer Graphics.', 'F,W,SP', '4', 'NA_CONCURRENT_TEXT', 'NA_RECOMMENDED_TEXT', 'CPE/CSC 357.', 'NA_CROSS_LIST', 'NA_STANDING_TEXT', 'NA', 'CPE', '471');\n",
      "\n",
      "INSERT INTO `Courses` (`courseName`, `termsOffered`, `units`, `raw_concurrent_text`, `raw_recommended_text`, `raw_prerequisites_text`, `crossListedAs`, `raw_standing_text`, `standing`, `dept`, `courseNum`) VALUES ('CPE 472. Digital Control Systems Laboratory.', 'F', '1', 'CPE/EE 432.', 'NA_RECOMMENDED_TEXT', 'NA_PREREQUISITE_TEXT', 'NA_CROSS_LIST', 'NA_STANDING_TEXT', 'NA', 'CPE', '472');\n",
      "\n",
      "INSERT INTO `Courses` (`courseName`, `termsOffered`, `units`, `raw_concurrent_text`, `raw_recommended_text`, `raw_prerequisites_text`, `crossListedAs`, `raw_standing_text`, `standing`, `dept`, `courseNum`) VALUES ('CPE 476. Real-Time 3D Computer Graphics Software.', 'TBD', '4', 'NA_CONCURRENT_TEXT', 'NA_RECOMMENDED_TEXT', 'CSC/CPE 471.', 'NA_CROSS_LIST', 'NA_STANDING_TEXT', 'NA', 'CPE', '476');\n",
      "\n",
      "INSERT INTO `Courses` (`courseName`, `termsOffered`, `units`, `raw_concurrent_text`, `raw_recommended_text`, `raw_prerequisites_text`, `crossListedAs`, `raw_standing_text`, `standing`, `dept`, `courseNum`) VALUES ('CPE 479. Selected Advanced Laboratory.', 'TBD', '1-4', 'NA_CONCURRENT_TEXT', 'NA_RECOMMENDED_TEXT', 'Consent of instructor.', 'NA_CROSS_LIST', 'NA_STANDING_TEXT', 'NA', 'CPE', '479');\n",
      "\n",
      "INSERT INTO `Courses` (`courseName`, `termsOffered`, `units`, `raw_concurrent_text`, `raw_recommended_text`, `raw_prerequisites_text`, `crossListedAs`, `raw_standing_text`, `standing`, `dept`, `courseNum`) VALUES ('CPE 482. Advanced Topics in Systems for Computer Engineering.', 'TBD', '4', 'NA_CONCURRENT_TEXT', 'NA_RECOMMENDED_TEXT', 'NA_PREREQUISITE_TEXT', 'NA_CROSS_LIST', 'NA_STANDING_TEXT', 'NA', 'CPE', '482');\n",
      "\n",
      "INSERT INTO `Courses` (`courseName`, `termsOffered`, `units`, `raw_concurrent_text`, `raw_recommended_text`, `raw_prerequisites_text`, `crossListedAs`, `raw_standing_text`, `standing`, `dept`, `courseNum`) VALUES ('CPE 485. Autonomous Robot Navigation.', 'TBD', '4', 'NA_CONCURRENT_TEXT', 'NA_RECOMMENDED_TEXT', 'CPE/CSC 357.', 'NA_CROSS_LIST', 'NA_STANDING_TEXT', 'NA', 'CPE', '485');\n",
      "\n",
      "INSERT INTO `Courses` (`courseName`, `termsOffered`, `units`, `raw_concurrent_text`, `raw_recommended_text`, `raw_prerequisites_text`, `crossListedAs`, `raw_standing_text`, `standing`, `dept`, `courseNum`) VALUES ('CPE 488. Microelectronics and Electronics Packaging.', 'F,W,SP', '4', 'NA_CONCURRENT_TEXT', 'MATE 210.', 'EE 112 or EE 113 or EE 201.', 'NA_CROSS_LIST', 'NA_STANDING_TEXT', 'NA', 'CPE', '488');\n",
      "\n",
      "INSERT INTO `Courses` (`courseName`, `termsOffered`, `units`, `raw_concurrent_text`, `raw_recommended_text`, `raw_prerequisites_text`, `crossListedAs`, `raw_standing_text`, `standing`, `dept`, `courseNum`) VALUES ('CPE 493. Cooperative Education Experience.', 'F,W,SP,SU', '2', 'NA_CONCURRENT_TEXT', 'NA_RECOMMENDED_TEXT', 'Sophomore standing and consent of instructor.', 'NA_CROSS_LIST', 'Sophomore standing', 'SO', 'CPE', '493');\n",
      "\n",
      "INSERT INTO `Courses` (`courseName`, `termsOffered`, `units`, `raw_concurrent_text`, `raw_recommended_text`, `raw_prerequisites_text`, `crossListedAs`, `raw_standing_text`, `standing`, `dept`, `courseNum`) VALUES ('CPE 494. Cooperative Education Experience.', 'F,W,SP,SU', '6', 'NA_CONCURRENT_TEXT', 'NA_RECOMMENDED_TEXT', 'Sophomore standing and consent of instructor.', 'NA_CROSS_LIST', 'Sophomore standing', 'SO', 'CPE', '494');\n",
      "\n",
      "INSERT INTO `Courses` (`courseName`, `termsOffered`, `units`, `raw_concurrent_text`, `raw_recommended_text`, `raw_prerequisites_text`, `crossListedAs`, `raw_standing_text`, `standing`, `dept`, `courseNum`) VALUES ('CPE 495. Cooperative Education Experience.', 'F,W,SP,SU', '12', 'NA_CONCURRENT_TEXT', 'NA_RECOMMENDED_TEXT', 'Sophomore standing and consent of instructor.', 'NA_CROSS_LIST', 'Sophomore standing', 'SO', 'CPE', '495');\n",
      "\n",
      "INSERT INTO `Courses` (`courseName`, `termsOffered`, `units`, `raw_concurrent_text`, `raw_recommended_text`, `raw_prerequisites_text`, `crossListedAs`, `raw_standing_text`, `standing`, `dept`, `courseNum`) VALUES ('CPE 515. Computer Architecture.', 'TBD', '4', 'NA_CONCURRENT_TEXT', 'NA_RECOMMENDED_TEXT', 'CPE 315 or CPE 333, and graduate standing; or consent of instructor.', 'NA_CROSS_LIST', 'graduate standing', 'GR', 'CPE', '515');\n",
      "\n",
      "INSERT INTO `Courses` (`courseName`, `termsOffered`, `units`, `raw_concurrent_text`, `raw_recommended_text`, `raw_prerequisites_text`, `crossListedAs`, `raw_standing_text`, `standing`, `dept`, `courseNum`) VALUES ('CPE 521. Computer Systems.', 'SP', '4', 'NA_CONCURRENT_TEXT', 'NA_RECOMMENDED_TEXT', 'CPE/EE 329 or CPE/EE 336, or equivalent, and graduate standing or consent of instructor.', 'NA_CROSS_LIST', 'graduate standing', 'GR', 'CPE', '521');\n",
      "\n",
      "INSERT INTO `Courses` (`courseName`, `termsOffered`, `units`, `raw_concurrent_text`, `raw_recommended_text`, `raw_prerequisites_text`, `crossListedAs`, `raw_standing_text`, `standing`, `dept`, `courseNum`) VALUES ('CPE 522. Advanced Real-Time Operating Systems Design.', 'W', '4', 'NA_CONCURRENT_TEXT', 'NA_RECOMMENDED_TEXT', 'CPE/EE 439.', 'NA_CROSS_LIST', 'NA_STANDING_TEXT', 'NA', 'CPE', '522');\n",
      "\n",
      "INSERT INTO `Courses` (`courseName`, `termsOffered`, `units`, `raw_concurrent_text`, `raw_recommended_text`, `raw_prerequisites_text`, `crossListedAs`, `raw_standing_text`, `standing`, `dept`, `courseNum`) VALUES ('CPE 523. Digital Systems Design.', 'F', '4', 'NA_CONCURRENT_TEXT', 'NA_RECOMMENDED_TEXT', 'CPE/EE 329 or CPE/EE 336, and graduate standing.', 'NA_CROSS_LIST', 'graduate standing', 'GR', 'CPE', '523');\n",
      "\n",
      "INSERT INTO `Courses` (`courseName`, `termsOffered`, `units`, `raw_concurrent_text`, `raw_recommended_text`, `raw_prerequisites_text`, `crossListedAs`, `raw_standing_text`, `standing`, `dept`, `courseNum`) VALUES ('CPE 532. VLSI Circuit Testing.', 'F', '1', 'NA_CONCURRENT_TEXT', 'NA_RECOMMENDED_TEXT', 'EE 531/CPE 541.', 'NA_CROSS_LIST', 'NA_STANDING_TEXT', 'NA', 'CPE', '532');\n",
      "\n",
      "INSERT INTO `Courses` (`courseName`, `termsOffered`, `units`, `raw_concurrent_text`, `raw_recommended_text`, `raw_prerequisites_text`, `crossListedAs`, `raw_standing_text`, `standing`, `dept`, `courseNum`) VALUES ('CPE 541. Advanced VLSI Design.', 'W', '4', 'NA_CONCURRENT_TEXT', 'NA_RECOMMENDED_TEXT', 'CPE 441/EE 431.', 'NA_CROSS_LIST', 'NA_STANDING_TEXT', 'NA', 'CPE', '541');\n",
      "\n",
      "INSERT INTO `Courses` (`courseName`, `termsOffered`, `units`, `raw_concurrent_text`, `raw_recommended_text`, `raw_prerequisites_text`, `crossListedAs`, `raw_standing_text`, `standing`, `dept`, `courseNum`) VALUES ('CPE 542. Advanced Real Time Embedded Systems.', 'SP', '4', 'NA_CONCURRENT_TEXT', 'NA_RECOMMENDED_TEXT', 'CPE/EE 442.', 'NA_CROSS_LIST', 'NA_STANDING_TEXT', 'NA', 'CPE', '542');\n",
      "\n",
      "INSERT INTO `Courses` (`courseName`, `termsOffered`, `units`, `raw_concurrent_text`, `raw_recommended_text`, `raw_prerequisites_text`, `crossListedAs`, `raw_standing_text`, `standing`, `dept`, `courseNum`) VALUES ('CPE 564. Computer Networks: Research Topics.', 'TBD', '4', 'NA_CONCURRENT_TEXT', 'NA_RECOMMENDED_TEXT', 'CSC/CPE 464 and graduate standing, or consent of instructor.', 'NA_CROSS_LIST', 'graduate standing', 'GR', 'CPE', '564');\n",
      "\n",
      "INSERT INTO `Courses` (`courseName`, `termsOffered`, `units`, `raw_concurrent_text`, `raw_recommended_text`, `raw_prerequisites_text`, `crossListedAs`, `raw_standing_text`, `standing`, `dept`, `courseNum`) VALUES ('CPE 569. Distributed Computing.', 'TBD', '4', 'NA_CONCURRENT_TEXT', 'NA_RECOMMENDED_TEXT', 'CSC 141 or CSC 348; and CPE/CSC 357; or graduate standing and consent of instructor.', 'NA_CROSS_LIST', 'graduate standing', 'GR', 'CPE', '569');\n",
      "\n",
      "INSERT INTO `Courses` (`courseName`, `termsOffered`, `units`, `raw_concurrent_text`, `raw_recommended_text`, `raw_prerequisites_text`, `crossListedAs`, `raw_standing_text`, `standing`, `dept`, `courseNum`) VALUES ('CSC 101. Fundamentals of Computer Science.', 'F,W,SP', '4', 'NA_CONCURRENT_TEXT', 'NA_RECOMMENDED_TEXT', 'Appropriate Math Placement Level; or MATH 117 with a grade of C- or better; or MATH 118 with a grade of C- or better; or consent of instructor.', 'NA_CROSS_LIST', 'NA_STANDING_TEXT', 'NA', 'CSC', '101');\n",
      "\n",
      "INSERT INTO `Courses` (`courseName`, `termsOffered`, `units`, `raw_concurrent_text`, `raw_recommended_text`, `raw_prerequisites_text`, `crossListedAs`, `raw_standing_text`, `standing`, `dept`, `courseNum`) VALUES ('CSC 105. Fundamentals of Computer Science I Supplemental Instruction.', 'TBD', '1', 'CPE/CSC 101.', 'NA_RECOMMENDED_TEXT', 'NA_PREREQUISITE_TEXT', 'NA_CROSS_LIST', 'NA_STANDING_TEXT', 'NA', 'CSC', '105');\n",
      "\n",
      "INSERT INTO `Courses` (`courseName`, `termsOffered`, `units`, `raw_concurrent_text`, `raw_recommended_text`, `raw_prerequisites_text`, `crossListedAs`, `raw_standing_text`, `standing`, `dept`, `courseNum`) VALUES ('CSC 108. Accelerated Introduction to Computer Science.', 'TBD', '4', 'NA_CONCURRENT_TEXT', 'NA_RECOMMENDED_TEXT', 'MATH 118 (or equivalent) with a grade of C- or better, significant experience in computer programming, and consent of instructor.', 'NA_CROSS_LIST', 'NA_STANDING_TEXT', 'NA', 'CSC', '108');\n",
      "\n",
      "INSERT INTO `Courses` (`courseName`, `termsOffered`, `units`, `raw_concurrent_text`, `raw_recommended_text`, `raw_prerequisites_text`, `crossListedAs`, `raw_standing_text`, `standing`, `dept`, `courseNum`) VALUES ('CSC 123. Introduction to Computing.', 'F', '4', 'NA_CONCURRENT_TEXT', 'NA_RECOMMENDED_TEXT', 'Basic computer literacy.', 'NA_CROSS_LIST', 'NA_STANDING_TEXT', 'NA', 'CSC', '123');\n",
      "\n",
      "INSERT INTO `Courses` (`courseName`, `termsOffered`, `units`, `raw_concurrent_text`, `raw_recommended_text`, `raw_prerequisites_text`, `crossListedAs`, `raw_standing_text`, `standing`, `dept`, `courseNum`) VALUES ('CSC 171. Introduction to Interactive Entertainment.', 'TBD', '4', 'NA_CONCURRENT_TEXT', 'NA_RECOMMENDED_TEXT', 'NA_PREREQUISITE_TEXT', 'NA_CROSS_LIST', 'NA_STANDING_TEXT', 'NA', 'CSC', '171');\n",
      "\n",
      "INSERT INTO `Courses` (`courseName`, `termsOffered`, `units`, `raw_concurrent_text`, `raw_recommended_text`, `raw_prerequisites_text`, `crossListedAs`, `raw_standing_text`, `standing`, `dept`, `courseNum`) VALUES ('CSC 200. Special Problems for Undergraduates.', 'F,W,SP', '1-2', 'NA_CONCURRENT_TEXT', 'NA_RECOMMENDED_TEXT', 'Consent of instructor.', 'NA_CROSS_LIST', 'NA_STANDING_TEXT', 'NA', 'CSC', '200');\n",
      "\n",
      "INSERT INTO `Courses` (`courseName`, `termsOffered`, `units`, `raw_concurrent_text`, `raw_recommended_text`, `raw_prerequisites_text`, `crossListedAs`, `raw_standing_text`, `standing`, `dept`, `courseNum`) VALUES ('CSC 202. Data Structures.', 'F,W,SP', '4', 'NA_CONCURRENT_TEXT', 'NA_RECOMMENDED_TEXT', 'CPE/CSC 101 with a grade of C- or better; MATH 141 or MATH 221 with a grade of C- or better; or consent of instructor.', 'NA_CROSS_LIST', 'NA_STANDING_TEXT', 'NA', 'CSC', '202');\n",
      "\n",
      "INSERT INTO `Courses` (`courseName`, `termsOffered`, `units`, `raw_concurrent_text`, `raw_recommended_text`, `raw_prerequisites_text`, `crossListedAs`, `raw_standing_text`, `standing`, `dept`, `courseNum`) VALUES ('CSC 203. Project-Based Object-Oriented Programming and Design.', 'F,W,SP', '4', 'NA_CONCURRENT_TEXT', 'NA_RECOMMENDED_TEXT', 'CPE/CSC 202 with a grade of C- or better or consent of instructor.', 'NA_CROSS_LIST', 'NA_STANDING_TEXT', 'NA', 'CSC', '203');\n",
      "\n",
      "INSERT INTO `Courses` (`courseName`, `termsOffered`, `units`, `raw_concurrent_text`, `raw_recommended_text`, `raw_prerequisites_text`, `crossListedAs`, `raw_standing_text`, `standing`, `dept`, `courseNum`) VALUES ('CSC 209. Problem Solving with Computers.', 'TBD', '1', 'NA_CONCURRENT_TEXT', 'NA_RECOMMENDED_TEXT', 'CSC/CPE 101 or CSC/CPE 108 with a grade of C- or better, or consent of instructor.', 'NA_CROSS_LIST', 'NA_STANDING_TEXT', 'NA', 'CSC', '209');\n",
      "\n",
      "INSERT INTO `Courses` (`courseName`, `termsOffered`, `units`, `raw_concurrent_text`, `raw_recommended_text`, `raw_prerequisites_text`, `crossListedAs`, `raw_standing_text`, `standing`, `dept`, `courseNum`) VALUES ('CSC 225. Introduction to Computer Organization.', 'F,W,SP', '4', 'NA_CONCURRENT_TEXT', 'NA_RECOMMENDED_TEXT', 'CSC/CPE 202.', 'NA_CROSS_LIST', 'NA_STANDING_TEXT', 'NA', 'CSC', '225');\n",
      "\n",
      "INSERT INTO `Courses` (`courseName`, `termsOffered`, `units`, `raw_concurrent_text`, `raw_recommended_text`, `raw_prerequisites_text`, `crossListedAs`, `raw_standing_text`, `standing`, `dept`, `courseNum`) VALUES ('CSC 231. Programming for Engineering Students.', 'F,W,SP', '2', 'NA_CONCURRENT_TEXT', 'NA_RECOMMENDED_TEXT', 'MATH 142; PHYS 121 or PHYS 131 or PHYS 141.', 'NA_CROSS_LIST', 'NA_STANDING_TEXT', 'NA', 'CSC', '231');\n",
      "\n",
      "INSERT INTO `Courses` (`courseName`, `termsOffered`, `units`, `raw_concurrent_text`, `raw_recommended_text`, `raw_prerequisites_text`, `crossListedAs`, `raw_standing_text`, `standing`, `dept`, `courseNum`) VALUES ('CSC 232. Computer Programming for Scientists and Engineers.', 'F,W', '3', 'NA_CONCURRENT_TEXT', 'NA_RECOMMENDED_TEXT', 'MATH 118 or equivalent.', 'NA_CROSS_LIST', 'NA_STANDING_TEXT', 'NA', 'CSC', '232');\n",
      "\n",
      "INSERT INTO `Courses` (`courseName`, `termsOffered`, `units`, `raw_concurrent_text`, `raw_recommended_text`, `raw_prerequisites_text`, `crossListedAs`, `raw_standing_text`, `standing`, `dept`, `courseNum`) VALUES ('CSC 234. C and Unix.', 'W', '3', 'NA_CONCURRENT_TEXT', 'NA_RECOMMENDED_TEXT', 'MATH 142.', 'NA_CROSS_LIST', 'NA_STANDING_TEXT', 'NA', 'CSC', '234');\n",
      "\n",
      "INSERT INTO `Courses` (`courseName`, `termsOffered`, `units`, `raw_concurrent_text`, `raw_recommended_text`, `raw_prerequisites_text`, `crossListedAs`, `raw_standing_text`, `standing`, `dept`, `courseNum`) VALUES ('CSC 235. Fundamentals of Computer Science for Scientists and Engineers I.', 'TBD', '4', 'NA_CONCURRENT_TEXT', 'NA_RECOMMENDED_TEXT', 'MATH 141 or MATH 161 with a grade of C- or better, or consent of instructor.', 'NA_CROSS_LIST', 'NA_STANDING_TEXT', 'NA', 'CSC', '235');\n",
      "\n",
      "INSERT INTO `Courses` (`courseName`, `termsOffered`, `units`, `raw_concurrent_text`, `raw_recommended_text`, `raw_prerequisites_text`, `crossListedAs`, `raw_standing_text`, `standing`, `dept`, `courseNum`) VALUES ('CSC 236. Fundamentals of Computer Science for Scientists and Engineers II.', 'TBD', '4', 'NA_CONCURRENT_TEXT', 'NA_RECOMMENDED_TEXT', 'CSC 235 with a grade of C- or better, or consent of instructor.', 'NA_CROSS_LIST', 'NA_STANDING_TEXT', 'NA', 'CSC', '236');\n",
      "\n",
      "INSERT INTO `Courses` (`courseName`, `termsOffered`, `units`, `raw_concurrent_text`, `raw_recommended_text`, `raw_prerequisites_text`, `crossListedAs`, `raw_standing_text`, `standing`, `dept`, `courseNum`) VALUES ('CSC 290. Selected Topics.', 'TBD', '1-4', 'NA_CONCURRENT_TEXT', 'NA_RECOMMENDED_TEXT', 'Open to undergraduate students and consent of instructor.', 'NA_CROSS_LIST', 'NA_STANDING_TEXT', 'NA', 'CSC', '290');\n",
      "\n",
      "INSERT INTO `Courses` (`courseName`, `termsOffered`, `units`, `raw_concurrent_text`, `raw_recommended_text`, `raw_prerequisites_text`, `crossListedAs`, `raw_standing_text`, `standing`, `dept`, `courseNum`) VALUES ('CSC 300. Professional Responsibilities.', 'F,W,SP', '4', 'NA_CONCURRENT_TEXT', 'NA_RECOMMENDED_TEXT', 'CSC/CPE 357 and junior standing.', 'NA_CROSS_LIST', 'junior standing', 'JR', 'CSC', '300');\n",
      "\n",
      "INSERT INTO `Courses` (`courseName`, `termsOffered`, `units`, `raw_concurrent_text`, `raw_recommended_text`, `raw_prerequisites_text`, `crossListedAs`, `raw_standing_text`, `standing`, `dept`, `courseNum`) VALUES ('CSC 301. Personal Software Process.', 'TBD', '4', 'NA_CONCURRENT_TEXT', 'NA_RECOMMENDED_TEXT', 'CSC/CPE 102 and CSC/CPE 103, or CSC/CPE 202 and CSC/CPE 203.', 'NA_CROSS_LIST', 'NA_STANDING_TEXT', 'NA', 'CSC', '301');\n",
      "\n",
      "INSERT INTO `Courses` (`courseName`, `termsOffered`, `units`, `raw_concurrent_text`, `raw_recommended_text`, `raw_prerequisites_text`, `crossListedAs`, `raw_standing_text`, `standing`, `dept`, `courseNum`) VALUES ('CSC 302. Computers and Society.', 'F', '4', 'NA_CONCURRENT_TEXT', 'NA_RECOMMENDED_TEXT', 'Junior standing; completion of GE Area A with grades of C- or better; completion of GE Area B1 with a grade of C- or better in at least one of the courses; and completion of GE Areas B2, B3, and B4.', 'NA_CROSS_LIST', 'Junior standing', 'JR', 'CSC', '302');\n",
      "\n",
      "INSERT INTO `Courses` (`courseName`, `termsOffered`, `units`, `raw_concurrent_text`, `raw_recommended_text`, `raw_prerequisites_text`, `crossListedAs`, `raw_standing_text`, `standing`, `dept`, `courseNum`) VALUES ('CSC 303. Teaching Computer Science.', 'TBD', '2', 'NA_CONCURRENT_TEXT', 'NA_RECOMMENDED_TEXT', 'CSC/CPE 102 and CSC/CPE 103, with a grade of C- or better or consent of instructor, or CSC/CPE 202 and CSC/CPE 203, with a grade of C- or better or consent of instructor.', 'NA_CROSS_LIST', 'NA_STANDING_TEXT', 'NA', 'CSC', '303');\n",
      "\n",
      "INSERT INTO `Courses` (`courseName`, `termsOffered`, `units`, `raw_concurrent_text`, `raw_recommended_text`, `raw_prerequisites_text`, `crossListedAs`, `raw_standing_text`, `standing`, `dept`, `courseNum`) VALUES ('CSC 305. Individual Software Design and Development.', 'W', '4', 'NA_CONCURRENT_TEXT', 'NA_RECOMMENDED_TEXT', 'CSC/CPE 357.', 'NA_CROSS_LIST', 'NA_STANDING_TEXT', 'NA', 'CSC', '305');\n",
      "\n",
      "INSERT INTO `Courses` (`courseName`, `termsOffered`, `units`, `raw_concurrent_text`, `raw_recommended_text`, `raw_prerequisites_text`, `crossListedAs`, `raw_standing_text`, `standing`, `dept`, `courseNum`) VALUES ('CSC 307. Introduction to Software Engineering.', 'F,SP', '4', 'NA_CONCURRENT_TEXT', 'NA_RECOMMENDED_TEXT', 'CSC 141 or CSC 348; and CPE/CSC 357.', 'NA_CROSS_LIST', 'NA_STANDING_TEXT', 'NA', 'CSC', '307');\n",
      "\n",
      "INSERT INTO `Courses` (`courseName`, `termsOffered`, `units`, `raw_concurrent_text`, `raw_recommended_text`, `raw_prerequisites_text`, `crossListedAs`, `raw_standing_text`, `standing`, `dept`, `courseNum`) VALUES ('CSC 308. Software Engineering I.', 'F,W', '4', 'NA_CONCURRENT_TEXT', 'NA_RECOMMENDED_TEXT', 'CSC 141 or CSC 348.', 'NA_CROSS_LIST', 'NA_STANDING_TEXT', 'NA', 'CSC', '308');\n",
      "\n",
      "INSERT INTO `Courses` (`courseName`, `termsOffered`, `units`, `raw_concurrent_text`, `raw_recommended_text`, `raw_prerequisites_text`, `crossListedAs`, `raw_standing_text`, `standing`, `dept`, `courseNum`) VALUES ('CSC 309. Software Engineering II.', 'W,SP', '4', 'NA_CONCURRENT_TEXT', 'NA_RECOMMENDED_TEXT', 'CSC 308 and CSC/CPE 357.', 'NA_CROSS_LIST', 'NA_STANDING_TEXT', 'NA', 'CSC', '309');\n",
      "\n",
      "INSERT INTO `Courses` (`courseName`, `termsOffered`, `units`, `raw_concurrent_text`, `raw_recommended_text`, `raw_prerequisites_text`, `crossListedAs`, `raw_standing_text`, `standing`, `dept`, `courseNum`) VALUES ('CSC 310. Computers for Poets.', 'TBD', '4', 'NA_CONCURRENT_TEXT', 'NA_RECOMMENDED_TEXT', 'Junior standing; completion of GE Area A with grades of C- or better; completion of GE Area B1 with a grade of C- or better in at least one of the courses; and completion of GE Areas B2, B3, and B4.', 'NA_CROSS_LIST', 'Junior standing', 'JR', 'CSC', '310');\n",
      "\n",
      "INSERT INTO `Courses` (`courseName`, `termsOffered`, `units`, `raw_concurrent_text`, `raw_recommended_text`, `raw_prerequisites_text`, `crossListedAs`, `raw_standing_text`, `standing`, `dept`, `courseNum`) VALUES ('CSC 311. Computational Art.', 'TBD', '4', 'NA_CONCURRENT_TEXT', 'NA_RECOMMENDED_TEXT', 'Junior standing; completion of GE Area A with grades of C- or better; completion of GE Area B1 with a grade of C- or better in at least one of the courses; and completion of GE Areas B2, B3, and B4.', 'NA_CROSS_LIST', 'Junior standing', 'JR', 'CSC', '311');\n",
      "\n",
      "INSERT INTO `Courses` (`courseName`, `termsOffered`, `units`, `raw_concurrent_text`, `raw_recommended_text`, `raw_prerequisites_text`, `crossListedAs`, `raw_standing_text`, `standing`, `dept`, `courseNum`) VALUES ('CSC 313. Teaching Computing.', 'SP', '4', 'NA_CONCURRENT_TEXT', 'NA_RECOMMENDED_TEXT', 'CPE/CSC 202.', 'NA_CROSS_LIST', 'NA_STANDING_TEXT', 'NA', 'CSC', '313');\n",
      "\n",
      "INSERT INTO `Courses` (`courseName`, `termsOffered`, `units`, `raw_concurrent_text`, `raw_recommended_text`, `raw_prerequisites_text`, `crossListedAs`, `raw_standing_text`, `standing`, `dept`, `courseNum`) VALUES ('CSC 320. Practical Computer Security for Everyone.', 'TBD', '4', 'NA_CONCURRENT_TEXT', 'NA_RECOMMENDED_TEXT', 'Junior standing; completion of GE Area A with grades of C- or better; completion of GE Area B1 with a grade of C- or better in at least one of the courses; and completion of GE Areas B2, B3, and B4.', 'NA_CROSS_LIST', 'Junior standing', 'JR', 'CSC', '320');\n",
      "\n",
      "INSERT INTO `Courses` (`courseName`, `termsOffered`, `units`, `raw_concurrent_text`, `raw_recommended_text`, `raw_prerequisites_text`, `crossListedAs`, `raw_standing_text`, `standing`, `dept`, `courseNum`) VALUES ('CSC 321. Introduction to Computer Security.', 'TBD', '4', 'NA_CONCURRENT_TEXT', 'NA_RECOMMENDED_TEXT', 'CPE/CSC 357.', 'NA_CROSS_LIST', 'NA_STANDING_TEXT', 'NA', 'CSC', '321');\n",
      "\n",
      "INSERT INTO `Courses` (`courseName`, `termsOffered`, `units`, `raw_concurrent_text`, `raw_recommended_text`, `raw_prerequisites_text`, `crossListedAs`, `raw_standing_text`, `standing`, `dept`, `courseNum`) VALUES ('CSC 323. Cryptography Engineering.', 'W', '4', 'NA_CONCURRENT_TEXT', 'NA_RECOMMENDED_TEXT', 'CPE/CSC 357.', 'NA_CROSS_LIST', 'NA_STANDING_TEXT', 'NA', 'CSC', '323');\n",
      "\n",
      "INSERT INTO `Courses` (`courseName`, `termsOffered`, `units`, `raw_concurrent_text`, `raw_recommended_text`, `raw_prerequisites_text`, `crossListedAs`, `raw_standing_text`, `standing`, `dept`, `courseNum`) VALUES ('CSC 325. Introduction to Privacy: Policy and Technology.', 'W', '4', 'NA_CONCURRENT_TEXT', 'NA_RECOMMENDED_TEXT', 'CSC 300.', 'NA_CROSS_LIST', 'NA_STANDING_TEXT', 'NA', 'CSC', '325');\n",
      "\n",
      "INSERT INTO `Courses` (`courseName`, `termsOffered`, `units`, `raw_concurrent_text`, `raw_recommended_text`, `raw_prerequisites_text`, `crossListedAs`, `raw_standing_text`, `standing`, `dept`, `courseNum`) VALUES ('CSC 344. Music Programming.', 'TBD', '4', 'NA_CONCURRENT_TEXT', 'NA_RECOMMENDED_TEXT', 'CSC 141 or CSC 348; and CPE/CSC 357.', 'NA_CROSS_LIST', 'NA_STANDING_TEXT', 'NA', 'CSC', '344');\n",
      "\n",
      "INSERT INTO `Courses` (`courseName`, `termsOffered`, `units`, `raw_concurrent_text`, `raw_recommended_text`, `raw_prerequisites_text`, `crossListedAs`, `raw_standing_text`, `standing`, `dept`, `courseNum`) VALUES ('CSC 348. Discrete Structures.', 'F,W,SP', '4', 'NA_CONCURRENT_TEXT', 'NA_RECOMMENDED_TEXT', 'CSC/CPE 102 and CSC/CPE 103, with a grade of C- or better or consent of instructor, or CSC/CPE 202 and CSC/CPE 203, with a grade of C- or better or consent of instructor.', 'NA_CROSS_LIST', 'NA_STANDING_TEXT', 'NA', 'CSC', '348');\n",
      "\n",
      "INSERT INTO `Courses` (`courseName`, `termsOffered`, `units`, `raw_concurrent_text`, `raw_recommended_text`, `raw_prerequisites_text`, `crossListedAs`, `raw_standing_text`, `standing`, `dept`, `courseNum`) VALUES ('CSC 349. Design and  Analysis of Algorithms.', 'F,SP', '4', 'NA_CONCURRENT_TEXT', 'NA_RECOMMENDED_TEXT', 'CSC 141 and MATH 142; or CSC 348 and MATH 142; or CPE/CSC 102 and CPE/ CSC 103 and MATH 248; or CPE/CSC 202 and CPE/ CSC 203 and MATH 248.', 'NA_CROSS_LIST', 'NA_STANDING_TEXT', 'NA', 'CSC', '349');\n",
      "\n",
      "INSERT INTO `Courses` (`courseName`, `termsOffered`, `units`, `raw_concurrent_text`, `raw_recommended_text`, `raw_prerequisites_text`, `crossListedAs`, `raw_standing_text`, `standing`, `dept`, `courseNum`) VALUES ('CSC 350. Computing for Interactive Arts Capstone I.', 'TBD', '2', 'NA_CONCURRENT_TEXT', 'NA_RECOMMENDED_TEXT', 'ART 384; CSC/CPE 103 or CSC/CPE 202; and junior standing.', 'NA_CROSS_LIST', 'junior standing', 'JR', 'CSC', '350');\n",
      "\n",
      "INSERT INTO `Courses` (`courseName`, `termsOffered`, `units`, `raw_concurrent_text`, `raw_recommended_text`, `raw_prerequisites_text`, `crossListedAs`, `raw_standing_text`, `standing`, `dept`, `courseNum`) VALUES ('CSC 357. Systems Programming.', 'F,W,SP', '4', 'NA_CONCURRENT_TEXT', 'NA_RECOMMENDED_TEXT', 'CSC/CPE 102 and CSC/CPE 103 with a grade of C- or better or consent of instructor, or CSC/CPE 202 and CSC/CPE 203 with a grade of C- or better or consent of instructor; and CSC 225 or CPE/EE 229 or CPE/EE 233.', 'NA_CROSS_LIST', 'NA_STANDING_TEXT', 'NA', 'CSC', '357');\n",
      "\n",
      "INSERT INTO `Courses` (`courseName`, `termsOffered`, `units`, `raw_concurrent_text`, `raw_recommended_text`, `raw_prerequisites_text`, `crossListedAs`, `raw_standing_text`, `standing`, `dept`, `courseNum`) VALUES ('CSC 365. Introduction to Database Systems.', 'F,W,SP', '4', 'NA_CONCURRENT_TEXT', 'NA_RECOMMENDED_TEXT', 'CSC 141; or CSC 348; or CPE/CSC 102 and CPE/CSC 103 and MATH 248; or CPE/CSC 202 and CPE/CSC 203 and MATH 248.', 'NA_CROSS_LIST', 'NA_STANDING_TEXT', 'NA', 'CSC', '365');\n",
      "\n",
      "INSERT INTO `Courses` (`courseName`, `termsOffered`, `units`, `raw_concurrent_text`, `raw_recommended_text`, `raw_prerequisites_text`, `crossListedAs`, `raw_standing_text`, `standing`, `dept`, `courseNum`) VALUES ('CSC 366. Database Modeling, Design and Implementation.', 'SP', '4', 'NA_CONCURRENT_TEXT', 'NA_RECOMMENDED_TEXT', 'CSC 365.', 'NA_CROSS_LIST', 'NA_STANDING_TEXT', 'NA', 'CSC', '366');\n",
      "\n",
      "INSERT INTO `Courses` (`courseName`, `termsOffered`, `units`, `raw_concurrent_text`, `raw_recommended_text`, `raw_prerequisites_text`, `crossListedAs`, `raw_standing_text`, `standing`, `dept`, `courseNum`) VALUES ('CSC 369. Introduction to Distributed Computing.', 'F,W', '4', 'NA_CONCURRENT_TEXT', 'NA_RECOMMENDED_TEXT', 'CSC/CPE 102 and CSC/CPE 103, or CSC/CPE 202 and CSC/CPE 203; and one of the STAT 301, STAT 312, STAT 321 or STAT 350.', 'NA_CROSS_LIST', 'NA_STANDING_TEXT', 'NA', 'CSC', '369');\n",
      "\n",
      "INSERT INTO `Courses` (`courseName`, `termsOffered`, `units`, `raw_concurrent_text`, `raw_recommended_text`, `raw_prerequisites_text`, `crossListedAs`, `raw_standing_text`, `standing`, `dept`, `courseNum`) VALUES ('CSC 371. Game Design.', 'W,SP', '4', 'NA_CONCURRENT_TEXT', 'NA_RECOMMENDED_TEXT', 'CSC/CPE 102 and CSC/CPE 103; or CSC/CPE 202 and junior standing.', 'NA_CROSS_LIST', 'junior standing', 'JR', 'CSC', '371');\n",
      "\n",
      "INSERT INTO `Courses` (`courseName`, `termsOffered`, `units`, `raw_concurrent_text`, `raw_recommended_text`, `raw_prerequisites_text`, `crossListedAs`, `raw_standing_text`, `standing`, `dept`, `courseNum`) VALUES ('CSC 377. Introduction to Mixed Reality.', 'SP', '4', 'NA_CONCURRENT_TEXT', 'ART 376.', 'CPE/CSC 202.', 'NA_CROSS_LIST', 'NA_STANDING_TEXT', 'NA', 'CSC', '377');\n",
      "\n",
      "INSERT INTO `Courses` (`courseName`, `termsOffered`, `units`, `raw_concurrent_text`, `raw_recommended_text`, `raw_prerequisites_text`, `crossListedAs`, `raw_standing_text`, `standing`, `dept`, `courseNum`) VALUES ('CSC 378. Interactive Entertainment Engineering.', 'W', '4', 'NA_CONCURRENT_TEXT', 'NA_RECOMMENDED_TEXT', 'CPE/CSC 102 and CPE/CSC 103, or CPE/CSC 202 and junior standing.', 'NA_CROSS_LIST', 'junior standing', 'JR', 'CSC', '378');\n",
      "\n",
      "INSERT INTO `Courses` (`courseName`, `termsOffered`, `units`, `raw_concurrent_text`, `raw_recommended_text`, `raw_prerequisites_text`, `crossListedAs`, `raw_standing_text`, `standing`, `dept`, `courseNum`) VALUES ('CSC 400. Special Problems.', 'F,W,SP', '1-4', 'NA_CONCURRENT_TEXT', 'NA_RECOMMENDED_TEXT', 'Consent of instructor.', 'NA_CROSS_LIST', 'NA_STANDING_TEXT', 'NA', 'CSC', '400');\n",
      "\n",
      "INSERT INTO `Courses` (`courseName`, `termsOffered`, `units`, `raw_concurrent_text`, `raw_recommended_text`, `raw_prerequisites_text`, `crossListedAs`, `raw_standing_text`, `standing`, `dept`, `courseNum`) VALUES ('CSC 402. Software Requirements Engineering.', 'F', '4', 'NA_CONCURRENT_TEXT', 'NA_RECOMMENDED_TEXT', 'CSC 307 or CSC 309.', 'NA_CROSS_LIST', 'NA_STANDING_TEXT', 'NA', 'CSC', '402');\n",
      "\n",
      "INSERT INTO `Courses` (`courseName`, `termsOffered`, `units`, `raw_concurrent_text`, `raw_recommended_text`, `raw_prerequisites_text`, `crossListedAs`, `raw_standing_text`, `standing`, `dept`, `courseNum`) VALUES ('CSC 405. Software Construction.', 'W', '4', 'NA_CONCURRENT_TEXT', 'NA_RECOMMENDED_TEXT', 'CSC 305 and CSC 402.', 'NA_CROSS_LIST', 'NA_STANDING_TEXT', 'NA', 'CSC', '405');\n",
      "\n",
      "INSERT INTO `Courses` (`courseName`, `termsOffered`, `units`, `raw_concurrent_text`, `raw_recommended_text`, `raw_prerequisites_text`, `crossListedAs`, `raw_standing_text`, `standing`, `dept`, `courseNum`) VALUES ('CSC 406. Senior Project - Software Deployment.', 'SP', '4', 'NA_CONCURRENT_TEXT', 'NA_RECOMMENDED_TEXT', 'CSC 405.', 'NA_CROSS_LIST', 'NA_STANDING_TEXT', 'NA', 'CSC', '406');\n",
      "\n",
      "INSERT INTO `Courses` (`courseName`, `termsOffered`, `units`, `raw_concurrent_text`, `raw_recommended_text`, `raw_prerequisites_text`, `crossListedAs`, `raw_standing_text`, `standing`, `dept`, `courseNum`) VALUES ('CSC 409. Current Topics in Software Engineering.', 'TBD', '4', 'NA_CONCURRENT_TEXT', 'NA_RECOMMENDED_TEXT', 'CSC 307 or CSC 309.', 'NA_CROSS_LIST', 'NA_STANDING_TEXT', 'NA', 'CSC', '409');\n",
      "\n",
      "INSERT INTO `Courses` (`courseName`, `termsOffered`, `units`, `raw_concurrent_text`, `raw_recommended_text`, `raw_prerequisites_text`, `crossListedAs`, `raw_standing_text`, `standing`, `dept`, `courseNum`) VALUES ('CSC 410. Software Evaluation.', 'TBD', '4', 'NA_CONCURRENT_TEXT', 'NA_RECOMMENDED_TEXT', 'CSC 349; STAT 301, STAT 312, STAT 321 or STAT 350.', 'NA_CROSS_LIST', 'NA_STANDING_TEXT', 'NA', 'CSC', '410');\n",
      "\n",
      "INSERT INTO `Courses` (`courseName`, `termsOffered`, `units`, `raw_concurrent_text`, `raw_recommended_text`, `raw_prerequisites_text`, `crossListedAs`, `raw_standing_text`, `standing`, `dept`, `courseNum`) VALUES ('CSC 422. Network and Web Security.', 'W', '4', 'NA_CONCURRENT_TEXT', 'NA_RECOMMENDED_TEXT', 'CPE 464.', 'NA_CROSS_LIST', 'NA_STANDING_TEXT', 'NA', 'CSC', '422');\n",
      "\n",
      "INSERT INTO `Courses` (`courseName`, `termsOffered`, `units`, `raw_concurrent_text`, `raw_recommended_text`, `raw_prerequisites_text`, `crossListedAs`, `raw_standing_text`, `standing`, `dept`, `courseNum`) VALUES ('CSC 424. Software Security.', 'W', '4', 'NA_CONCURRENT_TEXT', 'NA_RECOMMENDED_TEXT', 'CPE/CSC 307 or CPE/CSC 309; CPE/CSC 321.', 'NA_CROSS_LIST', 'NA_STANDING_TEXT', 'NA', 'CSC', '424');\n",
      "\n",
      "INSERT INTO `Courses` (`courseName`, `termsOffered`, `units`, `raw_concurrent_text`, `raw_recommended_text`, `raw_prerequisites_text`, `crossListedAs`, `raw_standing_text`, `standing`, `dept`, `courseNum`) VALUES ('CSC 429. Current Topics in Computer Security.', 'TBD', '4', 'NA_CONCURRENT_TEXT', 'NA_RECOMMENDED_TEXT', 'CPE/CSC 321 and CPE/CSC 357.', 'NA_CROSS_LIST', 'NA_STANDING_TEXT', 'NA', 'CSC', '429');\n",
      "\n",
      "INSERT INTO `Courses` (`courseName`, `termsOffered`, `units`, `raw_concurrent_text`, `raw_recommended_text`, `raw_prerequisites_text`, `crossListedAs`, `raw_standing_text`, `standing`, `dept`, `courseNum`) VALUES ('CSC 430. Programming Languages.', 'F,W,SP', '4', 'NA_CONCURRENT_TEXT', 'NA_RECOMMENDED_TEXT', 'CSC 349 and CSC/CPE 357.', 'NA_CROSS_LIST', 'NA_STANDING_TEXT', 'NA', 'CSC', '430');\n",
      "\n",
      "INSERT INTO `Courses` (`courseName`, `termsOffered`, `units`, `raw_concurrent_text`, `raw_recommended_text`, `raw_prerequisites_text`, `crossListedAs`, `raw_standing_text`, `standing`, `dept`, `courseNum`) VALUES ('CSC 431. Compiler Construction.', 'SP', '4', 'NA_CONCURRENT_TEXT', 'NA_RECOMMENDED_TEXT', 'CSC 430.', 'NA_CROSS_LIST', 'NA_STANDING_TEXT', 'NA', 'CSC', '431');\n",
      "\n",
      "INSERT INTO `Courses` (`courseName`, `termsOffered`, `units`, `raw_concurrent_text`, `raw_recommended_text`, `raw_prerequisites_text`, `crossListedAs`, `raw_standing_text`, `standing`, `dept`, `courseNum`) VALUES ('CSC 435. Introduction to Object Oriented Design Using Graphical User Interfaces.', 'TBD', '4', 'NA_CONCURRENT_TEXT', 'NA_RECOMMENDED_TEXT', 'CSC 305.', 'NA_CROSS_LIST', 'NA_STANDING_TEXT', 'NA', 'CSC', '435');\n",
      "\n",
      "INSERT INTO `Courses` (`courseName`, `termsOffered`, `units`, `raw_concurrent_text`, `raw_recommended_text`, `raw_prerequisites_text`, `crossListedAs`, `raw_standing_text`, `standing`, `dept`, `courseNum`) VALUES ('CSC 436. Mobile Application Development.', 'F,W,SP', '4', 'NA_CONCURRENT_TEXT', 'NA_RECOMMENDED_TEXT', 'CSC/CPE 357.', 'NA_CROSS_LIST', 'NA_STANDING_TEXT', 'NA', 'CSC', '436');\n",
      "\n",
      "INSERT INTO `Courses` (`courseName`, `termsOffered`, `units`, `raw_concurrent_text`, `raw_recommended_text`, `raw_prerequisites_text`, `crossListedAs`, `raw_standing_text`, `standing`, `dept`, `courseNum`) VALUES ('CSC 437. Dynamic Web Development.', 'SP', '4', 'NA_CONCURRENT_TEXT', 'NA_RECOMMENDED_TEXT', 'CPE/CSC 357 with a grade of C- or better and CSC 365 with a grade of C- or better; or consent of instructor.', 'NA_CROSS_LIST', 'NA_STANDING_TEXT', 'NA', 'CSC', '437');\n",
      "\n",
      "INSERT INTO `Courses` (`courseName`, `termsOffered`, `units`, `raw_concurrent_text`, `raw_recommended_text`, `raw_prerequisites_text`, `crossListedAs`, `raw_standing_text`, `standing`, `dept`, `courseNum`) VALUES ('CSC 445. Theory of Computation I.', 'F,W,SP', '4', 'NA_CONCURRENT_TEXT', 'NA_RECOMMENDED_TEXT', 'CSC 141 or CSC 348.', 'NA_CROSS_LIST', 'NA_STANDING_TEXT', 'NA', 'CSC', '445');\n",
      "\n",
      "INSERT INTO `Courses` (`courseName`, `termsOffered`, `units`, `raw_concurrent_text`, `raw_recommended_text`, `raw_prerequisites_text`, `crossListedAs`, `raw_standing_text`, `standing`, `dept`, `courseNum`) VALUES ('CSC 448. Bioinformatics Algorithms.', 'F', '4', 'NA_CONCURRENT_TEXT', 'NA_RECOMMENDED_TEXT', 'CSC 349.', 'NA_CROSS_LIST', 'NA_STANDING_TEXT', 'NA', 'CSC', '448');\n",
      "\n",
      "INSERT INTO `Courses` (`courseName`, `termsOffered`, `units`, `raw_concurrent_text`, `raw_recommended_text`, `raw_prerequisites_text`, `crossListedAs`, `raw_standing_text`, `standing`, `dept`, `courseNum`) VALUES ('CSC 450. Computing for Interactive Arts Capstone II.', 'TBD', '2', 'NA_CONCURRENT_TEXT', 'NA_RECOMMENDED_TEXT', 'ART/CSC 350.', 'NA_CROSS_LIST', 'NA_STANDING_TEXT', 'NA', 'CSC', '450');\n",
      "\n",
      "INSERT INTO `Courses` (`courseName`, `termsOffered`, `units`, `raw_concurrent_text`, `raw_recommended_text`, `raw_prerequisites_text`, `crossListedAs`, `raw_standing_text`, `standing`, `dept`, `courseNum`) VALUES ('CSC 453. Introduction to Operating Systems.', 'F,W,SP', '4', 'NA_CONCURRENT_TEXT', 'NA_RECOMMENDED_TEXT', 'CSC/CPE 357, and CSC/CPE 225 or CPE/EE 229 or CPE/EE 233.', 'NA_CROSS_LIST', 'NA_STANDING_TEXT', 'NA', 'CSC', '453');\n",
      "\n",
      "INSERT INTO `Courses` (`courseName`, `termsOffered`, `units`, `raw_concurrent_text`, `raw_recommended_text`, `raw_prerequisites_text`, `crossListedAs`, `raw_standing_text`, `standing`, `dept`, `courseNum`) VALUES ('CSC 454. Implementation of Operating Systems.', 'TBD', '4', 'NA_CONCURRENT_TEXT', 'NA_RECOMMENDED_TEXT', 'CSC/CPE 453.', 'NA_CROSS_LIST', 'NA_STANDING_TEXT', 'NA', 'CSC', '454');\n",
      "\n",
      "INSERT INTO `Courses` (`courseName`, `termsOffered`, `units`, `raw_concurrent_text`, `raw_recommended_text`, `raw_prerequisites_text`, `crossListedAs`, `raw_standing_text`, `standing`, `dept`, `courseNum`) VALUES ('CSC 458. Current Topics in Computer Systems.', 'TBD', '4', 'NA_CONCURRENT_TEXT', 'NA_RECOMMENDED_TEXT', 'CSC/CPE 357.', 'NA_CROSS_LIST', 'NA_STANDING_TEXT', 'NA', 'CSC', '458');\n",
      "\n",
      "INSERT INTO `Courses` (`courseName`, `termsOffered`, `units`, `raw_concurrent_text`, `raw_recommended_text`, `raw_prerequisites_text`, `crossListedAs`, `raw_standing_text`, `standing`, `dept`, `courseNum`) VALUES ('CSC 466. Knowledge Discovery from Data.', 'F,SP', '4', 'NA_CONCURRENT_TEXT', 'NA_RECOMMENDED_TEXT', 'CSC 349 and one of the STAT 302, STAT 312, STAT 321 or STAT 350.', 'NA_CROSS_LIST', 'NA_STANDING_TEXT', 'NA', 'CSC', '466');\n",
      "\n",
      "INSERT INTO `Courses` (`courseName`, `termsOffered`, `units`, `raw_concurrent_text`, `raw_recommended_text`, `raw_prerequisites_text`, `crossListedAs`, `raw_standing_text`, `standing`, `dept`, `courseNum`) VALUES ('CSC 468. Database Management Systems Implementation.', 'SP', '4', 'NA_CONCURRENT_TEXT', 'NA_RECOMMENDED_TEXT', 'CSC 365.', 'NA_CROSS_LIST', 'NA_STANDING_TEXT', 'NA', 'CSC', '468');\n",
      "\n",
      "INSERT INTO `Courses` (`courseName`, `termsOffered`, `units`, `raw_concurrent_text`, `raw_recommended_text`, `raw_prerequisites_text`, `crossListedAs`, `raw_standing_text`, `standing`, `dept`, `courseNum`) VALUES ('CSC 469. Distributed Systems.', 'TBD', '4', 'NA_CONCURRENT_TEXT', 'NA_RECOMMENDED_TEXT', 'CSC/CPE 357.', 'NA_CROSS_LIST', 'NA_STANDING_TEXT', 'NA', 'CSC', '469');\n",
      "\n",
      "INSERT INTO `Courses` (`courseName`, `termsOffered`, `units`, `raw_concurrent_text`, `raw_recommended_text`, `raw_prerequisites_text`, `crossListedAs`, `raw_standing_text`, `standing`, `dept`, `courseNum`) VALUES ('CSC 471. Introduction to Computer Graphics.', 'TBD', '4', 'NA_CONCURRENT_TEXT', 'NA_RECOMMENDED_TEXT', 'CPE/CSC 357.', 'NA_CROSS_LIST', 'NA_STANDING_TEXT', 'NA', 'CSC', '471');\n",
      "\n",
      "INSERT INTO `Courses` (`courseName`, `termsOffered`, `units`, `raw_concurrent_text`, `raw_recommended_text`, `raw_prerequisites_text`, `crossListedAs`, `raw_standing_text`, `standing`, `dept`, `courseNum`) VALUES ('CSC 473. Advanced Rendering Techniques.', 'TBD', '4', 'NA_CONCURRENT_TEXT', 'NA_RECOMMENDED_TEXT', 'CSC/CPE 471.', 'NA_CROSS_LIST', 'NA_STANDING_TEXT', 'NA', 'CSC', '473');\n",
      "\n",
      "INSERT INTO `Courses` (`courseName`, `termsOffered`, `units`, `raw_concurrent_text`, `raw_recommended_text`, `raw_prerequisites_text`, `crossListedAs`, `raw_standing_text`, `standing`, `dept`, `courseNum`) VALUES ('CSC 474. Computer Animation.', 'SP', '4', 'NA_CONCURRENT_TEXT', 'NA_RECOMMENDED_TEXT', 'CSC/CPE 471.', 'NA_CROSS_LIST', 'NA_STANDING_TEXT', 'NA', 'CSC', '474');\n",
      "\n",
      "INSERT INTO `Courses` (`courseName`, `termsOffered`, `units`, `raw_concurrent_text`, `raw_recommended_text`, `raw_prerequisites_text`, `crossListedAs`, `raw_standing_text`, `standing`, `dept`, `courseNum`) VALUES ('CSC 476. Real-Time 3D Computer Graphics Software.', 'SP', '4', 'NA_CONCURRENT_TEXT', 'NA_RECOMMENDED_TEXT', 'CSC/CPE 471.', 'NA_CROSS_LIST', 'NA_STANDING_TEXT', 'NA', 'CSC', '476');\n",
      "\n",
      "INSERT INTO `Courses` (`courseName`, `termsOffered`, `units`, `raw_concurrent_text`, `raw_recommended_text`, `raw_prerequisites_text`, `crossListedAs`, `raw_standing_text`, `standing`, `dept`, `courseNum`) VALUES ('CSC 477. Scientific and Information Visualization.', 'F', '4', 'NA_CONCURRENT_TEXT', 'NA_RECOMMENDED_TEXT', 'CSC 349.', 'NA_CROSS_LIST', 'NA_STANDING_TEXT', 'NA', 'CSC', '477');\n",
      "\n",
      "INSERT INTO `Courses` (`courseName`, `termsOffered`, `units`, `raw_concurrent_text`, `raw_recommended_text`, `raw_prerequisites_text`, `crossListedAs`, `raw_standing_text`, `standing`, `dept`, `courseNum`) VALUES ('CSC 478. Current Topics in Computer Graphics.', 'TBD', '4', 'NA_CONCURRENT_TEXT', 'NA_RECOMMENDED_TEXT', 'CSC/CPE 471.', 'NA_CROSS_LIST', 'NA_STANDING_TEXT', 'NA', 'CSC', '478');\n",
      "\n",
      "INSERT INTO `Courses` (`courseName`, `termsOffered`, `units`, `raw_concurrent_text`, `raw_recommended_text`, `raw_prerequisites_text`, `crossListedAs`, `raw_standing_text`, `standing`, `dept`, `courseNum`) VALUES ('CSC 480. Artificial Intelligence.', 'F,SP', '4', 'NA_CONCURRENT_TEXT', 'NA_RECOMMENDED_TEXT', 'either CSC/CPE 102 and CSC/CPE 103 with a grade of C- or better or consent of instructor; or CSC/CPE 202 with a grade of C- or better and junior standing.', 'NA_CROSS_LIST', 'junior standing', 'JR', 'CSC', '480');\n",
      "\n",
      "INSERT INTO `Courses` (`courseName`, `termsOffered`, `units`, `raw_concurrent_text`, `raw_recommended_text`, `raw_prerequisites_text`, `crossListedAs`, `raw_standing_text`, `standing`, `dept`, `courseNum`) VALUES ('CSC 481. Knowledge Based Systems.', 'SP', '4', 'NA_CONCURRENT_TEXT', 'NA_RECOMMENDED_TEXT', 'CSC 480.', 'NA_CROSS_LIST', 'NA_STANDING_TEXT', 'NA', 'CSC', '481');\n",
      "\n",
      "INSERT INTO `Courses` (`courseName`, `termsOffered`, `units`, `raw_concurrent_text`, `raw_recommended_text`, `raw_prerequisites_text`, `crossListedAs`, `raw_standing_text`, `standing`, `dept`, `courseNum`) VALUES ('CSC 482. Speech and Language Processing.', 'F,W', '4', 'NA_CONCURRENT_TEXT', 'CSC 349.', 'CSC 466 or CSC 480 or graduate standing.', 'NA_CROSS_LIST', 'graduate standing', 'GR', 'CSC', '482');\n",
      "\n",
      "INSERT INTO `Courses` (`courseName`, `termsOffered`, `units`, `raw_concurrent_text`, `raw_recommended_text`, `raw_prerequisites_text`, `crossListedAs`, `raw_standing_text`, `standing`, `dept`, `courseNum`) VALUES ('CSC 483. Current Topics in Human-Computer Interaction.', 'TBD', '4', 'NA_CONCURRENT_TEXT', 'NA_RECOMMENDED_TEXT', 'CSC 484.', 'NA_CROSS_LIST', 'NA_STANDING_TEXT', 'NA', 'CSC', '483');\n",
      "\n",
      "INSERT INTO `Courses` (`courseName`, `termsOffered`, `units`, `raw_concurrent_text`, `raw_recommended_text`, `raw_prerequisites_text`, `crossListedAs`, `raw_standing_text`, `standing`, `dept`, `courseNum`) VALUES ('CSC 484. User-Centered Interface Design and Development.', 'F,W,SP', '4', 'NA_CONCURRENT_TEXT', 'NA_RECOMMENDED_TEXT', 'CSC 307 or CSC 308; junior standing.', 'NA_CROSS_LIST', 'junior standing', 'JR', 'CSC', '484');\n",
      "\n",
      "INSERT INTO `Courses` (`courseName`, `termsOffered`, `units`, `raw_concurrent_text`, `raw_recommended_text`, `raw_prerequisites_text`, `crossListedAs`, `raw_standing_text`, `standing`, `dept`, `courseNum`) VALUES ('CSC 486. Human-Computer Interaction Theory and Design.', 'SP', '4', 'NA_CONCURRENT_TEXT', 'NA_RECOMMENDED_TEXT', 'NA_PREREQUISITE_TEXT', 'NA_CROSS_LIST', 'NA_STANDING_TEXT', 'NA', 'CSC', '486');\n",
      "\n",
      "INSERT INTO `Courses` (`courseName`, `termsOffered`, `units`, `raw_concurrent_text`, `raw_recommended_text`, `raw_prerequisites_text`, `crossListedAs`, `raw_standing_text`, `standing`, `dept`, `courseNum`) VALUES ('CSC 487. Deep Learning.', 'F', '4', 'NA_CONCURRENT_TEXT', 'CSC 466 or CSC 480.', 'CSC 349, and MATH 206 or MATH 244.', 'NA_CROSS_LIST', 'NA_STANDING_TEXT', 'NA', 'CSC', '487');\n",
      "\n",
      "INSERT INTO `Courses` (`courseName`, `termsOffered`, `units`, `raw_concurrent_text`, `raw_recommended_text`, `raw_prerequisites_text`, `crossListedAs`, `raw_standing_text`, `standing`, `dept`, `courseNum`) VALUES ('CSC 489. Current Topics in Artificial Intelligence.', 'SP', '4', 'NA_CONCURRENT_TEXT', 'NA_RECOMMENDED_TEXT', 'CSC 480.', 'NA_CROSS_LIST', 'NA_STANDING_TEXT', 'NA', 'CSC', '489');\n",
      "\n",
      "INSERT INTO `Courses` (`courseName`, `termsOffered`, `units`, `raw_concurrent_text`, `raw_recommended_text`, `raw_prerequisites_text`, `crossListedAs`, `raw_standing_text`, `standing`, `dept`, `courseNum`) VALUES ('CSC 490. Selected Advanced Topics.', 'SP', '1-4', 'NA_CONCURRENT_TEXT', 'NA_RECOMMENDED_TEXT', 'Consent of instructor.', 'NA_CROSS_LIST', 'NA_STANDING_TEXT', 'NA', 'CSC', '490');\n",
      "\n",
      "INSERT INTO `Courses` (`courseName`, `termsOffered`, `units`, `raw_concurrent_text`, `raw_recommended_text`, `raw_prerequisites_text`, `crossListedAs`, `raw_standing_text`, `standing`, `dept`, `courseNum`) VALUES ('CSC 491. Senior Project I.', 'F,W,SP', '2', 'NA_CONCURRENT_TEXT', 'NA_RECOMMENDED_TEXT', 'CSC 307 or CSC 309; and consent of instructor.', 'NA_CROSS_LIST', 'NA_STANDING_TEXT', 'NA', 'CSC', '491');\n",
      "\n",
      "INSERT INTO `Courses` (`courseName`, `termsOffered`, `units`, `raw_concurrent_text`, `raw_recommended_text`, `raw_prerequisites_text`, `crossListedAs`, `raw_standing_text`, `standing`, `dept`, `courseNum`) VALUES ('CSC 492. Senior Project II.', 'F,W,SP', '2', 'NA_CONCURRENT_TEXT', 'NA_RECOMMENDED_TEXT', 'CSC 491 and consent of instructor.', 'NA_CROSS_LIST', 'NA_STANDING_TEXT', 'NA', 'CSC', '492');\n",
      "\n",
      "INSERT INTO `Courses` (`courseName`, `termsOffered`, `units`, `raw_concurrent_text`, `raw_recommended_text`, `raw_prerequisites_text`, `crossListedAs`, `raw_standing_text`, `standing`, `dept`, `courseNum`) VALUES ('CSC 493. Cooperative Education Experience.', 'F,W,SP', '2', 'NA_CONCURRENT_TEXT', 'NA_RECOMMENDED_TEXT', 'Sophomore standing and consent of instructor.', 'NA_CROSS_LIST', 'Sophomore standing', 'SO', 'CSC', '493');\n",
      "\n",
      "INSERT INTO `Courses` (`courseName`, `termsOffered`, `units`, `raw_concurrent_text`, `raw_recommended_text`, `raw_prerequisites_text`, `crossListedAs`, `raw_standing_text`, `standing`, `dept`, `courseNum`) VALUES ('CSC 494. Cooperative Education Experience.', 'F,W,SP', '6', 'NA_CONCURRENT_TEXT', 'NA_RECOMMENDED_TEXT', 'Sophomore standing and consent of instructor.', 'NA_CROSS_LIST', 'Sophomore standing', 'SO', 'CSC', '494');\n",
      "\n",
      "INSERT INTO `Courses` (`courseName`, `termsOffered`, `units`, `raw_concurrent_text`, `raw_recommended_text`, `raw_prerequisites_text`, `crossListedAs`, `raw_standing_text`, `standing`, `dept`, `courseNum`) VALUES ('CSC 495. Cooperative Education Experience.', 'F,W,SP', '12', 'NA_CONCURRENT_TEXT', 'NA_RECOMMENDED_TEXT', 'Sophomore standing and consent of instructor.', 'NA_CROSS_LIST', 'Sophomore standing', 'SO', 'CSC', '495');\n",
      "\n",
      "INSERT INTO `Courses` (`courseName`, `termsOffered`, `units`, `raw_concurrent_text`, `raw_recommended_text`, `raw_prerequisites_text`, `crossListedAs`, `raw_standing_text`, `standing`, `dept`, `courseNum`) VALUES ('CSC 496. Selected Advanced Laboratory.', 'SP', '1-4', 'NA_CONCURRENT_TEXT', 'NA_RECOMMENDED_TEXT', 'Consent of instructor.', 'NA_CROSS_LIST', 'NA_STANDING_TEXT', 'NA', 'CSC', '496');\n",
      "\n",
      "INSERT INTO `Courses` (`courseName`, `termsOffered`, `units`, `raw_concurrent_text`, `raw_recommended_text`, `raw_prerequisites_text`, `crossListedAs`, `raw_standing_text`, `standing`, `dept`, `courseNum`) VALUES ('CSC 497. Research Senior Project I.', 'F,W,SP', '2', 'NA_CONCURRENT_TEXT', 'NA_RECOMMENDED_TEXT', 'CSC 307 or CSC 309; and consent of instructor.', 'NA_CROSS_LIST', 'NA_STANDING_TEXT', 'NA', 'CSC', '497');\n",
      "\n",
      "INSERT INTO `Courses` (`courseName`, `termsOffered`, `units`, `raw_concurrent_text`, `raw_recommended_text`, `raw_prerequisites_text`, `crossListedAs`, `raw_standing_text`, `standing`, `dept`, `courseNum`) VALUES ('CSC 498. Research Senior Project II.', 'F,W,SP', '2', 'NA_CONCURRENT_TEXT', 'NA_RECOMMENDED_TEXT', 'CSC 497 and consent of instructor.', 'NA_CROSS_LIST', 'NA_STANDING_TEXT', 'NA', 'CSC', '498');\n",
      "\n",
      "INSERT INTO `Courses` (`courseName`, `termsOffered`, `units`, `raw_concurrent_text`, `raw_recommended_text`, `raw_prerequisites_text`, `crossListedAs`, `raw_standing_text`, `standing`, `dept`, `courseNum`) VALUES ('CSC 500. Directed Study.', 'F,W,SP', '1-4', 'NA_CONCURRENT_TEXT', 'NA_RECOMMENDED_TEXT', 'Fully classified graduate standing and consent of instructor.', 'NA_CROSS_LIST', 'graduate standing', 'GR', 'CSC', '500');\n",
      "\n",
      "INSERT INTO `Courses` (`courseName`, `termsOffered`, `units`, `raw_concurrent_text`, `raw_recommended_text`, `raw_prerequisites_text`, `crossListedAs`, `raw_standing_text`, `standing`, `dept`, `courseNum`) VALUES ('CSC 508. Software Engineering I.', 'TBD', '4', 'NA_CONCURRENT_TEXT', 'NA_RECOMMENDED_TEXT', 'CSC 307 or CSC 308 and graduate standing, or consent of instructor.', 'NA_CROSS_LIST', 'graduate standing', 'GR', 'CSC', '508');\n",
      "\n",
      "INSERT INTO `Courses` (`courseName`, `termsOffered`, `units`, `raw_concurrent_text`, `raw_recommended_text`, `raw_prerequisites_text`, `crossListedAs`, `raw_standing_text`, `standing`, `dept`, `courseNum`) VALUES ('CSC 509. Software Engineering II.', 'SP', '4', 'NA_CONCURRENT_TEXT', 'NA_RECOMMENDED_TEXT', 'CSC 508 and graduate standing, or consent of instructor.', 'NA_CROSS_LIST', 'graduate standing', 'GR', 'CSC', '509');\n",
      "\n",
      "INSERT INTO `Courses` (`courseName`, `termsOffered`, `units`, `raw_concurrent_text`, `raw_recommended_text`, `raw_prerequisites_text`, `crossListedAs`, `raw_standing_text`, `standing`, `dept`, `courseNum`) VALUES ('CSC 515. Computer Architecture.', 'F', '4', 'NA_CONCURRENT_TEXT', 'NA_RECOMMENDED_TEXT', 'CPE 315 or CPE 333, and graduate standing; or consent of instructor.', 'NA_CROSS_LIST', 'graduate standing', 'GR', 'CSC', '515');\n",
      "\n",
      "INSERT INTO `Courses` (`courseName`, `termsOffered`, `units`, `raw_concurrent_text`, `raw_recommended_text`, `raw_prerequisites_text`, `crossListedAs`, `raw_standing_text`, `standing`, `dept`, `courseNum`) VALUES ('CSC 521. Computer Security.', 'TBD', '4', 'NA_CONCURRENT_TEXT', 'NA_RECOMMENDED_TEXT', 'CPE/CSC 321 and graduate standing.', 'NA_CROSS_LIST', 'graduate standing', 'GR', 'CSC', '521');\n",
      "\n",
      "INSERT INTO `Courses` (`courseName`, `termsOffered`, `units`, `raw_concurrent_text`, `raw_recommended_text`, `raw_prerequisites_text`, `crossListedAs`, `raw_standing_text`, `standing`, `dept`, `courseNum`) VALUES ('CSC 530. Languages and Translators.', 'SP', '4', 'NA_CONCURRENT_TEXT', 'NA_RECOMMENDED_TEXT', 'CSC 430 and graduate standing, or consent of instructor.', 'NA_CROSS_LIST', 'graduate standing', 'GR', 'CSC', '530');\n",
      "\n",
      "INSERT INTO `Courses` (`courseName`, `termsOffered`, `units`, `raw_concurrent_text`, `raw_recommended_text`, `raw_prerequisites_text`, `crossListedAs`, `raw_standing_text`, `standing`, `dept`, `courseNum`) VALUES ('CSC 540. Theory of Computation II.', 'W', '4', 'NA_CONCURRENT_TEXT', 'NA_RECOMMENDED_TEXT', 'CSC 445 and graduate standing, or consent of instructor.', 'NA_CROSS_LIST', 'graduate standing', 'GR', 'CSC', '540');\n",
      "\n",
      "INSERT INTO `Courses` (`courseName`, `termsOffered`, `units`, `raw_concurrent_text`, `raw_recommended_text`, `raw_prerequisites_text`, `crossListedAs`, `raw_standing_text`, `standing`, `dept`, `courseNum`) VALUES ('CSC 550. Operating Systems.', 'TBD', '4', 'NA_CONCURRENT_TEXT', 'NA_RECOMMENDED_TEXT', 'CSC/CPE 453 and graduate standing, or consent of instructor.', 'NA_CROSS_LIST', 'graduate standing', 'GR', 'CSC', '550');\n",
      "\n",
      "INSERT INTO `Courses` (`courseName`, `termsOffered`, `units`, `raw_concurrent_text`, `raw_recommended_text`, `raw_prerequisites_text`, `crossListedAs`, `raw_standing_text`, `standing`, `dept`, `courseNum`) VALUES ('CSC 560. Database Systems.', 'TBD', '4', 'NA_CONCURRENT_TEXT', 'NA_RECOMMENDED_TEXT', 'CSC 365 and graduate standing, or consent of instructor.', 'NA_CROSS_LIST', 'graduate standing', 'GR', 'CSC', '560');\n",
      "\n",
      "INSERT INTO `Courses` (`courseName`, `termsOffered`, `units`, `raw_concurrent_text`, `raw_recommended_text`, `raw_prerequisites_text`, `crossListedAs`, `raw_standing_text`, `standing`, `dept`, `courseNum`) VALUES ('CSC 564. Computer Networks: Research Topics.', 'W', '4', 'NA_CONCURRENT_TEXT', 'NA_RECOMMENDED_TEXT', 'CSC/CPE 464 and graduate standing, or consent of instructor.', 'NA_CROSS_LIST', 'graduate standing', 'GR', 'CSC', '564');\n",
      "\n",
      "INSERT INTO `Courses` (`courseName`, `termsOffered`, `units`, `raw_concurrent_text`, `raw_recommended_text`, `raw_prerequisites_text`, `crossListedAs`, `raw_standing_text`, `standing`, `dept`, `courseNum`) VALUES ('CSC 566. Topics in Advanced Data Mining.', 'SP', '4', 'NA_CONCURRENT_TEXT', 'NA_RECOMMENDED_TEXT', 'CSC 466 or CSC 480 or CSC 582.', 'NA_CROSS_LIST', 'NA_STANDING_TEXT', 'NA', 'CSC', '566');\n",
      "\n",
      "INSERT INTO `Courses` (`courseName`, `termsOffered`, `units`, `raw_concurrent_text`, `raw_recommended_text`, `raw_prerequisites_text`, `crossListedAs`, `raw_standing_text`, `standing`, `dept`, `courseNum`) VALUES ('CSC 569. Distributed Computing.', 'TBD', '4', 'NA_CONCURRENT_TEXT', 'NA_RECOMMENDED_TEXT', 'CSC 141 or CSC 348; and CPE/CSC 357; or graduate standing and consent of instructor.', 'NA_CROSS_LIST', 'graduate standing', 'GR', 'CSC', '569');\n",
      "\n",
      "INSERT INTO `Courses` (`courseName`, `termsOffered`, `units`, `raw_concurrent_text`, `raw_recommended_text`, `raw_prerequisites_text`, `crossListedAs`, `raw_standing_text`, `standing`, `dept`, `courseNum`) VALUES ('CSC 570. Current Topics in Computer Science.', 'F,W', '2-4', 'NA_CONCURRENT_TEXT', 'NA_RECOMMENDED_TEXT', 'Graduate standing and evidence of satisfactory preparation in computer science.', 'NA_CROSS_LIST', 'Graduate standing', 'GR', 'CSC', '570');\n",
      "\n",
      "INSERT INTO `Courses` (`courseName`, `termsOffered`, `units`, `raw_concurrent_text`, `raw_recommended_text`, `raw_prerequisites_text`, `crossListedAs`, `raw_standing_text`, `standing`, `dept`, `courseNum`) VALUES ('CSC 572. Computer Graphics.', 'F', '4', 'NA_CONCURRENT_TEXT', 'NA_RECOMMENDED_TEXT', 'Successful completion of CSC/CPE 471 and graduate standing, or consent of instructor.', 'NA_CROSS_LIST', 'graduate standing', 'GR', 'CSC', '572');\n",
      "\n",
      "INSERT INTO `Courses` (`courseName`, `termsOffered`, `units`, `raw_concurrent_text`, `raw_recommended_text`, `raw_prerequisites_text`, `crossListedAs`, `raw_standing_text`, `standing`, `dept`, `courseNum`) VALUES ('CSC 580. Artificial Intelligence.', 'W', '4', 'NA_CONCURRENT_TEXT', 'NA_RECOMMENDED_TEXT', 'CSC 480 and graduate standing, or consent of instructor.', 'NA_CROSS_LIST', 'graduate standing', 'GR', 'CSC', '580');\n",
      "\n",
      "INSERT INTO `Courses` (`courseName`, `termsOffered`, `units`, `raw_concurrent_text`, `raw_recommended_text`, `raw_prerequisites_text`, `crossListedAs`, `raw_standing_text`, `standing`, `dept`, `courseNum`) VALUES ('CSC 581. Computer Support for Knowledge Management.', 'TBD', '4', 'NA_CONCURRENT_TEXT', 'NA_RECOMMENDED_TEXT', 'CSC 480 or CSC 484 or consent of instructor.', 'NA_CROSS_LIST', 'NA_STANDING_TEXT', 'NA', 'CSC', '581');\n",
      "\n",
      "INSERT INTO `Courses` (`courseName`, `termsOffered`, `units`, `raw_concurrent_text`, `raw_recommended_text`, `raw_prerequisites_text`, `crossListedAs`, `raw_standing_text`, `standing`, `dept`, `courseNum`) VALUES ('CSC 582. Computational Linguistics.', 'TBD', '4', 'NA_CONCURRENT_TEXT', 'CSC 580.', 'CSC 482 and graduate standing.', 'NA_CROSS_LIST', 'graduate standing', 'GR', 'CSC', '582');\n",
      "\n",
      "INSERT INTO `Courses` (`courseName`, `termsOffered`, `units`, `raw_concurrent_text`, `raw_recommended_text`, `raw_prerequisites_text`, `crossListedAs`, `raw_standing_text`, `standing`, `dept`, `courseNum`) VALUES ('CSC 590. Thesis Seminar.', 'F,W,SP', '1', 'NA_CONCURRENT_TEXT', 'NA_RECOMMENDED_TEXT', 'Graduate standing or consent of instructor.', 'NA_CROSS_LIST', 'Graduate standing', 'GR', 'CSC', '590');\n",
      "\n",
      "INSERT INTO `Courses` (`courseName`, `termsOffered`, `units`, `raw_concurrent_text`, `raw_recommended_text`, `raw_prerequisites_text`, `crossListedAs`, `raw_standing_text`, `standing`, `dept`, `courseNum`) VALUES ('CSC 593. Cooperative Education Experience.', 'F,W,SP', '2', 'NA_CONCURRENT_TEXT', 'NA_RECOMMENDED_TEXT', 'Graduate standing and consent of instructor.', 'NA_CROSS_LIST', 'Graduate standing', 'GR', 'CSC', '593');\n",
      "\n",
      "INSERT INTO `Courses` (`courseName`, `termsOffered`, `units`, `raw_concurrent_text`, `raw_recommended_text`, `raw_prerequisites_text`, `crossListedAs`, `raw_standing_text`, `standing`, `dept`, `courseNum`) VALUES ('CSC 594. Cooperative Education Experience.', 'F,W,SP', '6', 'NA_CONCURRENT_TEXT', 'NA_RECOMMENDED_TEXT', 'Graduate standing and consent of instructor.', 'NA_CROSS_LIST', 'Graduate standing', 'GR', 'CSC', '594');\n",
      "\n",
      "INSERT INTO `Courses` (`courseName`, `termsOffered`, `units`, `raw_concurrent_text`, `raw_recommended_text`, `raw_prerequisites_text`, `crossListedAs`, `raw_standing_text`, `standing`, `dept`, `courseNum`) VALUES ('CSC 595. Cooperative Education Experience.', 'F,W,SP', '12', 'NA_CONCURRENT_TEXT', 'NA_RECOMMENDED_TEXT', 'Graduate standing and consent of instructor.', 'NA_CROSS_LIST', 'Graduate standing', 'GR', 'CSC', '595');\n",
      "\n",
      "INSERT INTO `Courses` (`courseName`, `termsOffered`, `units`, `raw_concurrent_text`, `raw_recommended_text`, `raw_prerequisites_text`, `crossListedAs`, `raw_standing_text`, `standing`, `dept`, `courseNum`) VALUES ('CSC 596. Research in Computer Science I.', 'F,W,SP', '2', 'NA_CONCURRENT_TEXT', 'NA_RECOMMENDED_TEXT', 'Consent of instructor.', 'NA_CROSS_LIST', 'NA_STANDING_TEXT', 'NA', 'CSC', '596');\n",
      "\n",
      "INSERT INTO `Courses` (`courseName`, `termsOffered`, `units`, `raw_concurrent_text`, `raw_recommended_text`, `raw_prerequisites_text`, `crossListedAs`, `raw_standing_text`, `standing`, `dept`, `courseNum`) VALUES ('CSC 597. Research in Computer Science II.', 'F,W,SP', '2', 'NA_CONCURRENT_TEXT', 'NA_RECOMMENDED_TEXT', 'CSC 596 and consent of instructor.', 'NA_CROSS_LIST', 'NA_STANDING_TEXT', 'NA', 'CSC', '597');\n",
      "\n",
      "INSERT INTO `Courses` (`courseName`, `termsOffered`, `units`, `raw_concurrent_text`, `raw_recommended_text`, `raw_prerequisites_text`, `crossListedAs`, `raw_standing_text`, `standing`, `dept`, `courseNum`) VALUES ('CSC 599. Thesis.', 'F,W,SP', '4', 'NA_CONCURRENT_TEXT', 'NA_RECOMMENDED_TEXT', 'CSC 590; CSC 498 or CSC 597; selection of thesis committee; graduate standing; and consent of instructor.', 'NA_CROSS_LIST', 'graduate standing', 'GR', 'CSC', '599');\n"
     ]
    }
   ],
   "source": [
    "string_insert_statements = \";\\n\\n\".join(SQL_INSERT_STATEMENT_FROM_DATAFRAME(mysql_df, \"Courses\"))\n",
    "# one last semi-colon to satisfy my OCD\n",
    "string_insert_statements = string_insert_statements + \";\"\n",
    "print(string_insert_statements)"
   ]
  },
  {
   "cell_type": "markdown",
   "metadata": {},
   "source": [
    "# lastly let's structure the prequisites INSERTS\n",
    "\n",
    "## e.g.\n",
    "```mysql\n",
    "INSERT INTO `Prerequisites` (`courseId`, `prereqCourse`)\n",
    "VALUES (4, 'CSC 307 | CSC 308');\n",
    "```"
   ]
  },
  {
   "cell_type": "code",
   "execution_count": 36,
   "metadata": {},
   "outputs": [
    {
     "data": {
      "text/plain": [
       "array(['MATH 118 (or equivalent) with a grade of C- or better, significant experience in computer programming, and consent of instructor.',\n",
       "       \"An orientation course in student's major (EE 111 and EE 151; or CPE 100) and CPE/CSC 101.\",\n",
       "       'Open to undergraduate students and consent of instructor.',\n",
       "       'CSC/CPE 102 and CSC/CPE 103, or CSC/CPE 202 and CSC/CPE 203; and one of the CSC 225, CPE/EE 229, or CPE/EE 233.',\n",
       "       'CSC/CPE 102 and CSC/CPE 103 with a grade of C- or better or consent of instructor, or CSC/CPE 202 and CSC/CPE 203 with a grade of C- or better or consent of instructor; and CSC 225 or CPE/EE 229 or CPE/EE 233.',\n",
       "       'CPE/EE 329 or CPE/EE 336 or both CPE 315 and CPE/CSC 357.',\n",
       "       'CPE 315 or CPE 333; and CPE 233.',\n",
       "       'EE 302 and EE 342; or CPE 327 and CPE 367.', 'EE 307 and EE 347.',\n",
       "       'CSC/CPE 357, and CSC/CPE 225 or CPE/EE 229 or CPE/EE 233.',\n",
       "       'CSC/CPE 453 and CPE 464.',\n",
       "       'Sophomore standing and consent of instructor.',\n",
       "       'CPE 315 or CPE 333, and graduate standing; or consent of instructor.',\n",
       "       'CPE/EE 329 or CPE/EE 336, or equivalent, and graduate standing or consent of instructor.',\n",
       "       'CPE/EE 329 or CPE/EE 336, and graduate standing.',\n",
       "       'CSC/CPE 464 and graduate standing, or consent of instructor.',\n",
       "       'CSC 141 or CSC 348; and CPE/CSC 357; or graduate standing and consent of instructor.',\n",
       "       'CSC/CPE 357 and junior standing.',\n",
       "       'CSC/CPE 102 and CSC/CPE 103, or CSC/CPE 202 and CSC/CPE 203.',\n",
       "       'Junior standing; completion of GE Area A with grades of C- or better; completion of GE Area B1 with a grade of C- or better in at least one of the courses; and completion of GE Areas B2, B3, and B4.',\n",
       "       'CSC/CPE 102 and CSC/CPE 103, with a grade of C- or better or consent of instructor, or CSC/CPE 202 and CSC/CPE 203, with a grade of C- or better or consent of instructor.',\n",
       "       'CSC 141 or CSC 348; and CPE/CSC 357.', 'CSC 308 and CSC/CPE 357.',\n",
       "       'CSC 141 and MATH 142; or CSC 348 and MATH 142; or CPE/CSC 102 and CPE/ CSC 103 and MATH 248; or CPE/CSC 202 and CPE/ CSC 203 and MATH 248.',\n",
       "       'ART 384; CSC/CPE 103 or CSC/CPE 202; and junior standing.',\n",
       "       'CSC 141; or CSC 348; or CPE/CSC 102 and CPE/CSC 103 and MATH 248; or CPE/CSC 202 and CPE/CSC 203 and MATH 248.',\n",
       "       'CSC/CPE 102 and CSC/CPE 103, or CSC/CPE 202 and CSC/CPE 203; and one of the STAT 301, STAT 312, STAT 321 or STAT 350.',\n",
       "       'CSC/CPE 102 and CSC/CPE 103; or CSC/CPE 202 and junior standing.',\n",
       "       'CPE/CSC 102 and CPE/CSC 103, or CPE/CSC 202 and junior standing.',\n",
       "       'CSC 305 and CSC 402.', 'CPE/CSC 321 and CPE/CSC 357.',\n",
       "       'CSC 349 and CSC/CPE 357.',\n",
       "       'CPE/CSC 357 with a grade of C- or better and CSC 365 with a grade of C- or better; or consent of instructor.',\n",
       "       'CSC 349 and one of the STAT 302, STAT 312, STAT 321 or STAT 350.',\n",
       "       'either CSC/CPE 102 and CSC/CPE 103 with a grade of C- or better or consent of instructor; or CSC/CPE 202 with a grade of C- or better and junior standing.',\n",
       "       'CSC 466 or CSC 480 or graduate standing.',\n",
       "       'CSC 307 or CSC 308; junior standing.',\n",
       "       'CSC 349, and MATH 206 or MATH 244.',\n",
       "       'CSC 307 or CSC 309; and consent of instructor.',\n",
       "       'CSC 491 and consent of instructor.',\n",
       "       'CSC 497 and consent of instructor.',\n",
       "       'Fully classified graduate standing and consent of instructor.',\n",
       "       'CSC 307 or CSC 308 and graduate standing, or consent of instructor.',\n",
       "       'CSC 508 and graduate standing, or consent of instructor.',\n",
       "       'CPE/CSC 321 and graduate standing.',\n",
       "       'CSC 430 and graduate standing, or consent of instructor.',\n",
       "       'CSC 445 and graduate standing, or consent of instructor.',\n",
       "       'CSC/CPE 453 and graduate standing, or consent of instructor.',\n",
       "       'CSC 365 and graduate standing, or consent of instructor.',\n",
       "       'Graduate standing and evidence of satisfactory preparation in computer science.',\n",
       "       'Successful completion of CSC/CPE 471 and graduate standing, or consent of instructor.',\n",
       "       'CSC 480 and graduate standing, or consent of instructor.',\n",
       "       'CSC 482 and graduate standing.',\n",
       "       'Graduate standing or consent of instructor.',\n",
       "       'Graduate standing and consent of instructor.',\n",
       "       'CSC 596 and consent of instructor.',\n",
       "       'CSC 590; CSC 498 or CSC 597; selection of thesis committee; graduate standing; and consent of instructor.'],\n",
       "      dtype=object)"
      ]
     },
     "execution_count": 36,
     "metadata": {},
     "output_type": "execute_result"
    }
   ],
   "source": [
    "mysql_df[mysql_df['raw_prerequisites_text'].str.contains('and')]['raw_prerequisites_text'].unique()"
   ]
  },
  {
   "cell_type": "markdown",
   "metadata": {},
   "source": [
    "# finally let's save"
   ]
  },
  {
   "cell_type": "code",
   "execution_count": 28,
   "metadata": {},
   "outputs": [],
   "source": [
    "with open(SCRIPT_OUTPUT_PATH, 'w') as f:\n",
    "    f.write(string_insert_statements)"
   ]
  }
 ],
 "metadata": {
  "kernelspec": {
   "display_name": "Python 3",
   "language": "python",
   "name": "python3"
  },
  "language_info": {
   "codemirror_mode": {
    "name": "ipython",
    "version": 3
   },
   "file_extension": ".py",
   "mimetype": "text/x-python",
   "name": "python",
   "nbconvert_exporter": "python",
   "pygments_lexer": "ipython3",
   "version": "3.6.8"
  }
 },
 "nbformat": 4,
 "nbformat_minor": 2
}
