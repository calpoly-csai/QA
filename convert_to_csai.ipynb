{
 "cells": [
  {
   "cell_type": "markdown",
   "metadata": {},
   "source": [
    "# Data Conversion\n",
    "There is Question/Answer (QA) data inside of `STACIA_QA`.\n",
    "\n",
    "The goal of this notebook is to read all of the csv files into a `pandas.DataFrame`\n",
    "\n",
    "Then reformat the data to fit the CSAI style.\n",
    "\n",
    "Finally, output a CSV file of the newly structured data. "
   ]
  },
  {
   "cell_type": "code",
   "execution_count": 319,
   "metadata": {},
   "outputs": [],
   "source": [
    "from os import listdir, getcwd\n",
    "from os.path import join\n",
    "from RedirectStdStreams import RedirectStdStreams\n",
    "from io import StringIO\n",
    "import pandas as pd\n",
    "import re\n",
    "import numpy as np"
   ]
  },
  {
   "cell_type": "code",
   "execution_count": 320,
   "metadata": {},
   "outputs": [],
   "source": [
    "DATA_DIR = 'STACIA_QA'\n",
    "DIR = join(getcwd(), DATA_DIR)"
   ]
  },
  {
   "cell_type": "code",
   "execution_count": 321,
   "metadata": {},
   "outputs": [],
   "source": [
    "files = listdir(DATA_DIR)"
   ]
  },
  {
   "cell_type": "code",
   "execution_count": 322,
   "metadata": {},
   "outputs": [],
   "source": [
    "def startswith(y):\n",
    "    return lambda x: x.startswith(y)"
   ]
  },
  {
   "cell_type": "code",
   "execution_count": 323,
   "metadata": {},
   "outputs": [],
   "source": [
    "cs_files = sorted(filter(startswith('cs'), files))\n",
    "stat_files = sorted(filter(startswith('stat'), files))\n",
    "club_files = sorted(filter(startswith('club'), files))"
   ]
  },
  {
   "cell_type": "code",
   "execution_count": 324,
   "metadata": {},
   "outputs": [],
   "source": [
    "def make_data_frame_from_files(files):\n",
    "    '''given stacia_qa csv files, return a pandas DataFrame containing the enclosed data'''\n",
    "    # encodings: https://stackoverflow.com/q/19699367/5411712\n",
    "    # list-of-encodings:\n",
    "    # https://docs.python.org/3/library/codecs.html#standard-encodings\n",
    "    df = pd.DataFrame()\n",
    "    for fname in files:\n",
    "        fpath = join(DIR, fname)\n",
    "        to_concat = [df]\n",
    "        to_concat.append(\n",
    "            pd.read_csv(fpath,\n",
    "                        sep='|',\n",
    "                        encoding='latin_1',\n",
    "                        header=None,\n",
    "                        # fun fact: setting the `names` param avoids warnings\n",
    "                        # because then pandas knows how many columns to make\n",
    "                        # also the purpose of the \"other\" columns is to catch weird \n",
    "                        # extras that would otherwise be trimmed off after the delimeter\n",
    "                        names=['id','q_format','a_format','notes','other','other2','other3'],\n",
    "                        error_bad_lines=False,\n",
    "                        warn_bad_lines=True))\n",
    "        df = pd.concat(to_concat)\n",
    "        print(fname, \"done\", \"....on to the next one....\")\n",
    "    return df"
   ]
  },
  {
   "cell_type": "code",
   "execution_count": 325,
   "metadata": {},
   "outputs": [
    {
     "name": "stdout",
     "output_type": "stream",
     "text": [
      "cs1.txt done ....on to the next one....\n",
      "cs10.txt done ....on to the next one....\n",
      "cs11.txt done ....on to the next one....\n",
      "cs12.txt done ....on to the next one....\n",
      "cs13.txt done ....on to the next one....\n",
      "cs14.txt done ....on to the next one....\n",
      "cs15.txt done ....on to the next one....\n",
      "cs2.txt done ....on to the next one....\n",
      "cs3.txt done ....on to the next one....\n",
      "cs4.txt done ....on to the next one....\n",
      "cs5.txt done ....on to the next one....\n",
      "cs6.txt done ....on to the next one....\n",
      "cs7.txt done ....on to the next one....\n",
      "cs8.txt done ....on to the next one....\n",
      "cs9.txt done ....on to the next one....\n",
      "stat1.txt done ....on to the next one....\n",
      "clubs.txt done ....on to the next one....\n"
     ]
    }
   ],
   "source": [
    "cs_df   = make_data_frame_from_files(cs_files)\n",
    "stat_df = make_data_frame_from_files(stat_files)\n",
    "club_df = make_data_frame_from_files(club_files)"
   ]
  },
  {
   "cell_type": "code",
   "execution_count": 326,
   "metadata": {},
   "outputs": [],
   "source": [
    "# remove the comments at the end of each file \n",
    "cs_df = cs_df[cs_df['id'].str.startswith(\"[\") != True]\n",
    "stat_df = stat_df[stat_df['id'].str.startswith(\"[\") != True]\n",
    "club_df = club_df[club_df['id'].str.startswith(\"[\") != True]\n",
    "\n",
    "all_df = pd.concat([cs_df, stat_df, club_df])"
   ]
  },
  {
   "cell_type": "markdown",
   "metadata": {},
   "source": [
    "## Let's have a quick look at `all_df`"
   ]
  },
  {
   "cell_type": "code",
   "execution_count": 327,
   "metadata": {},
   "outputs": [
    {
     "name": "stdout",
     "output_type": "stream",
     "text": [
      "all_df.shape: (2202, 7)\n",
      "So there are 2202 question/answer pairs\n"
     ]
    },
    {
     "data": {
      "text/html": [
       "<div>\n",
       "<style scoped>\n",
       "    .dataframe tbody tr th:only-of-type {\n",
       "        vertical-align: middle;\n",
       "    }\n",
       "\n",
       "    .dataframe tbody tr th {\n",
       "        vertical-align: top;\n",
       "    }\n",
       "\n",
       "    .dataframe thead th {\n",
       "        text-align: right;\n",
       "    }\n",
       "</style>\n",
       "<table border=\"1\" class=\"dataframe\">\n",
       "  <thead>\n",
       "    <tr style=\"text-align: right;\">\n",
       "      <th></th>\n",
       "      <th>id</th>\n",
       "      <th>q_format</th>\n",
       "      <th>a_format</th>\n",
       "      <th>notes</th>\n",
       "      <th>other</th>\n",
       "      <th>other2</th>\n",
       "      <th>other3</th>\n",
       "    </tr>\n",
       "  </thead>\n",
       "  <tbody>\n",
       "    <tr>\n",
       "      <th>87</th>\n",
       "      <td>A2</td>\n",
       "      <td>What time does [CSCorSTAT] tutoring meet?</td>\n",
       "      <td>[TutorTime] (if CSC, also insert note on how t...</td>\n",
       "      <td>NaN</td>\n",
       "      <td>NaN</td>\n",
       "      <td>NaN</td>\n",
       "      <td>NaN</td>\n",
       "    </tr>\n",
       "    <tr>\n",
       "      <th>88</th>\n",
       "      <td>A2</td>\n",
       "      <td>Who are some private tutors for Statistics?</td>\n",
       "      <td>Here is a PDF for a list of private Statistics...</td>\n",
       "      <td>NaN</td>\n",
       "      <td>NaN</td>\n",
       "      <td>NaN</td>\n",
       "      <td>NaN</td>\n",
       "    </tr>\n",
       "    <tr>\n",
       "      <th>89</th>\n",
       "      <td>A2</td>\n",
       "      <td>What do I need to do to be a CSC tutor?</td>\n",
       "      <td>Complete (or be enrolled in) CSC 357 and sched...</td>\n",
       "      <td>NaN</td>\n",
       "      <td>NaN</td>\n",
       "      <td>NaN</td>\n",
       "      <td>NaN</td>\n",
       "    </tr>\n",
       "    <tr>\n",
       "      <th>90</th>\n",
       "      <td>A2</td>\n",
       "      <td>Does [CSSESTATClubOrgName] have a [OfficerRole...</td>\n",
       "      <td>[YesOrNo]</td>\n",
       "      <td>NaN</td>\n",
       "      <td>NaN</td>\n",
       "      <td>NaN</td>\n",
       "      <td>NaN</td>\n",
       "    </tr>\n",
       "    <tr>\n",
       "      <th>91</th>\n",
       "      <td>A2</td>\n",
       "      <td>Who is the club adviser for [CSSESTATClubOrgNa...</td>\n",
       "      <td>The club adviser for [CSSESTATClubOrgName] is ...</td>\n",
       "      <td>NaN</td>\n",
       "      <td>NaN</td>\n",
       "      <td>NaN</td>\n",
       "      <td>NaN</td>\n",
       "    </tr>\n",
       "  </tbody>\n",
       "</table>\n",
       "</div>"
      ],
      "text/plain": [
       "    id                                           q_format  \\\n",
       "87  A2          What time does [CSCorSTAT] tutoring meet?   \n",
       "88  A2        Who are some private tutors for Statistics?   \n",
       "89  A2            What do I need to do to be a CSC tutor?   \n",
       "90  A2  Does [CSSESTATClubOrgName] have a [OfficerRole...   \n",
       "91  A2  Who is the club adviser for [CSSESTATClubOrgNa...   \n",
       "\n",
       "                                             a_format notes other  other2  \\\n",
       "87  [TutorTime] (if CSC, also insert note on how t...   NaN   NaN     NaN   \n",
       "88  Here is a PDF for a list of private Statistics...   NaN   NaN     NaN   \n",
       "89  Complete (or be enrolled in) CSC 357 and sched...   NaN   NaN     NaN   \n",
       "90                                          [YesOrNo]   NaN   NaN     NaN   \n",
       "91  The club adviser for [CSSESTATClubOrgName] is ...   NaN   NaN     NaN   \n",
       "\n",
       "    other3  \n",
       "87     NaN  \n",
       "88     NaN  \n",
       "89     NaN  \n",
       "90     NaN  \n",
       "91     NaN  "
      ]
     },
     "execution_count": 327,
     "metadata": {},
     "output_type": "execute_result"
    }
   ],
   "source": [
    "print('all_df.shape:', all_df.shape)\n",
    "print('So there are {} question/answer pairs'.format(all_df.shape[0]))\n",
    "all_df.tail()"
   ]
  },
  {
   "cell_type": "markdown",
   "metadata": {},
   "source": [
    "## Is there bad data?  `yes` 😢"
   ]
  },
  {
   "cell_type": "code",
   "execution_count": 328,
   "metadata": {},
   "outputs": [],
   "source": [
    "def make_weird_columns_mask(df):\n",
    "    '''given a pandas DataFrame of STACIA_QA data, return a mask to find the rows with extra columns'''\n",
    "    wierd_columns_mask = df['notes'].notnull() \n",
    "    wierd_columns_mask |= df['other'].notnull() \n",
    "    wierd_columns_mask |= df['other2'].notnull() \n",
    "    wierd_columns_mask |= df['other3'].notnull()\n",
    "    return wierd_columns_mask"
   ]
  },
  {
   "cell_type": "code",
   "execution_count": 330,
   "metadata": {},
   "outputs": [
    {
     "name": "stdout",
     "output_type": "stream",
     "text": [
      "needs_to_be_fixed.shape: (84, 7)\n",
      "So there are 84 rows that do not follow the standard STACIA_QA format\n"
     ]
    }
   ],
   "source": [
    "wierd_columns_mask = make_weird_columns_mask(all_df)\n",
    "needs_to_be_fixed = all_df[wierd_columns_mask]\n",
    "print('needs_to_be_fixed.shape:', needs_to_be_fixed.shape)\n",
    "print('So there are {} rows that do not follow the standard STACIA_QA format'.format(needs_to_be_fixed.shape[0]))"
   ]
  },
  {
   "cell_type": "code",
   "execution_count": 332,
   "metadata": {},
   "outputs": [
    {
     "data": {
      "text/html": [
       "<div>\n",
       "<style scoped>\n",
       "    .dataframe tbody tr th:only-of-type {\n",
       "        vertical-align: middle;\n",
       "    }\n",
       "\n",
       "    .dataframe tbody tr th {\n",
       "        vertical-align: top;\n",
       "    }\n",
       "\n",
       "    .dataframe thead th {\n",
       "        text-align: right;\n",
       "    }\n",
       "</style>\n",
       "<table border=\"1\" class=\"dataframe\">\n",
       "  <thead>\n",
       "    <tr style=\"text-align: right;\">\n",
       "      <th></th>\n",
       "      <th>id</th>\n",
       "      <th>q_format</th>\n",
       "      <th>a_format</th>\n",
       "      <th>notes</th>\n",
       "      <th>other</th>\n",
       "      <th>other2</th>\n",
       "      <th>other3</th>\n",
       "    </tr>\n",
       "  </thead>\n",
       "  <tbody>\n",
       "    <tr>\n",
       "      <th>30</th>\n",
       "      <td>G1</td>\n",
       "      <td>How many units of tech electives are required ...</td>\n",
       "      <td>Minor]?</td>\n",
       "      <td>Number</td>\n",
       "      <td>NaN</td>\n",
       "      <td>NaN</td>\n",
       "      <td>NaN</td>\n",
       "    </tr>\n",
       "    <tr>\n",
       "      <th>32</th>\n",
       "      <td>G1</td>\n",
       "      <td>Do I have any Free Electives as [Major</td>\n",
       "      <td>Minor]?</td>\n",
       "      <td>Yes or No</td>\n",
       "      <td>NaN</td>\n",
       "      <td>NaN</td>\n",
       "      <td>NaN</td>\n",
       "    </tr>\n",
       "    <tr>\n",
       "      <th>34</th>\n",
       "      <td>G1</td>\n",
       "      <td>How many units of Support Courses do I need to...</td>\n",
       "      <td>Minor]?</td>\n",
       "      <td>Number</td>\n",
       "      <td>NaN</td>\n",
       "      <td>NaN</td>\n",
       "      <td>NaN</td>\n",
       "    </tr>\n",
       "    <tr>\n",
       "      <th>35</th>\n",
       "      <td>G1</td>\n",
       "      <td>How many units of Approved support courses do ...</td>\n",
       "      <td>Minor]?</td>\n",
       "      <td>Number</td>\n",
       "      <td>NaN</td>\n",
       "      <td>NaN</td>\n",
       "      <td>NaN</td>\n",
       "    </tr>\n",
       "    <tr>\n",
       "      <th>36</th>\n",
       "      <td>G1</td>\n",
       "      <td>What CSC courses can I take as a [Major</td>\n",
       "      <td>Minor]?</td>\n",
       "      <td>[Courses]</td>\n",
       "      <td>NaN</td>\n",
       "      <td>NaN</td>\n",
       "      <td>NaN</td>\n",
       "    </tr>\n",
       "  </tbody>\n",
       "</table>\n",
       "</div>"
      ],
      "text/plain": [
       "    id                                           q_format  a_format  \\\n",
       "30  G1  How many units of tech electives are required ...   Minor]?   \n",
       "32  G1             Do I have any Free Electives as [Major   Minor]?   \n",
       "34  G1  How many units of Support Courses do I need to...   Minor]?   \n",
       "35  G1  How many units of Approved support courses do ...   Minor]?   \n",
       "36  G1            What CSC courses can I take as a [Major   Minor]?   \n",
       "\n",
       "        notes other  other2  other3  \n",
       "30     Number   NaN     NaN     NaN  \n",
       "32  Yes or No   NaN     NaN     NaN  \n",
       "34     Number   NaN     NaN     NaN  \n",
       "35     Number   NaN     NaN     NaN  \n",
       "36  [Courses]   NaN     NaN     NaN  "
      ]
     },
     "execution_count": 332,
     "metadata": {},
     "output_type": "execute_result"
    }
   ],
   "source": [
    "all_df[wierd_columns_mask].head()"
   ]
  },
  {
   "cell_type": "code",
   "execution_count": 333,
   "metadata": {},
   "outputs": [
    {
     "data": {
      "text/html": [
       "<div>\n",
       "<style scoped>\n",
       "    .dataframe tbody tr th:only-of-type {\n",
       "        vertical-align: middle;\n",
       "    }\n",
       "\n",
       "    .dataframe tbody tr th {\n",
       "        vertical-align: top;\n",
       "    }\n",
       "\n",
       "    .dataframe thead th {\n",
       "        text-align: right;\n",
       "    }\n",
       "</style>\n",
       "<table border=\"1\" class=\"dataframe\">\n",
       "  <thead>\n",
       "    <tr style=\"text-align: right;\">\n",
       "      <th></th>\n",
       "      <th>id</th>\n",
       "      <th>q_format</th>\n",
       "      <th>a_format</th>\n",
       "      <th>notes</th>\n",
       "      <th>other</th>\n",
       "      <th>other2</th>\n",
       "      <th>other3</th>\n",
       "    </tr>\n",
       "  </thead>\n",
       "  <tbody>\n",
       "    <tr>\n",
       "      <th>106</th>\n",
       "      <td>A1</td>\n",
       "      <td>Is [Person] available as a private tutor for S...</td>\n",
       "      <td>(No.</td>\n",
       "      <td>Yes.)</td>\n",
       "      <td>NaN</td>\n",
       "      <td>NaN</td>\n",
       "      <td>NaN</td>\n",
       "    </tr>\n",
       "    <tr>\n",
       "      <th>107</th>\n",
       "      <td>A1</td>\n",
       "      <td>Are there any private tutors for [Stat-Course]?</td>\n",
       "      <td>(No.</td>\n",
       "      <td>Yes. [Person] at [Email],â¦.</td>\n",
       "      <td>NaN</td>\n",
       "      <td>NaN</td>\n",
       "      <td>NaN</td>\n",
       "    </tr>\n",
       "    <tr>\n",
       "      <th>108</th>\n",
       "      <td>A1</td>\n",
       "      <td>What is the contact information of private Sta...</td>\n",
       "      <td>(No one tutors for that course.</td>\n",
       "      <td>The tutors are [Person] at [Email],â¦.</td>\n",
       "      <td>NaN</td>\n",
       "      <td>NaN</td>\n",
       "      <td>NaN</td>\n",
       "    </tr>\n",
       "    <tr>\n",
       "      <th>42</th>\n",
       "      <td>A2</td>\n",
       "      <td>Whats [STAT</td>\n",
       "      <td>CSSE] tutoring office hours?</td>\n",
       "      <td>[OfficeHours]</td>\n",
       "      <td>NaN</td>\n",
       "      <td>NaN</td>\n",
       "      <td>NaN</td>\n",
       "    </tr>\n",
       "    <tr>\n",
       "      <th>43</th>\n",
       "      <td>A2</td>\n",
       "      <td>Can you reserve a tutor for [CSSE</td>\n",
       "      <td>STAT]?</td>\n",
       "      <td>You can reserve one for STAT, not for CSSE</td>\n",
       "      <td>NaN</td>\n",
       "      <td>NaN</td>\n",
       "      <td>NaN</td>\n",
       "    </tr>\n",
       "  </tbody>\n",
       "</table>\n",
       "</div>"
      ],
      "text/plain": [
       "     id                                           q_format  \\\n",
       "106  A1  Is [Person] available as a private tutor for S...   \n",
       "107  A1    Are there any private tutors for [Stat-Course]?   \n",
       "108  A1  What is the contact information of private Sta...   \n",
       "42   A2                                       Whats [STAT   \n",
       "43   A2                  Can you reserve a tutor for [CSSE   \n",
       "\n",
       "                             a_format  \\\n",
       "106                             (No.    \n",
       "107                             (No.    \n",
       "108  (No one tutors for that course.    \n",
       "42       CSSE] tutoring office hours?   \n",
       "43                             STAT]?   \n",
       "\n",
       "                                          notes other  other2  other3  \n",
       "106                                       Yes.)   NaN     NaN     NaN  \n",
       "107               Yes. [Person] at [Email],â¦.   NaN     NaN     NaN  \n",
       "108     The tutors are [Person] at [Email],â¦.   NaN     NaN     NaN  \n",
       "42                                [OfficeHours]   NaN     NaN     NaN  \n",
       "43   You can reserve one for STAT, not for CSSE   NaN     NaN     NaN  "
      ]
     },
     "execution_count": 333,
     "metadata": {},
     "output_type": "execute_result"
    }
   ],
   "source": [
    "all_df[wierd_columns_mask].tail()"
   ]
  },
  {
   "cell_type": "markdown",
   "metadata": {},
   "source": [
    "## Frankly, `84` bad rows is so few that it might be reasonable to drop those rows"
   ]
  },
  {
   "cell_type": "code",
   "execution_count": 338,
   "metadata": {},
   "outputs": [
    {
     "data": {
      "text/html": [
       "<div>\n",
       "<style scoped>\n",
       "    .dataframe tbody tr th:only-of-type {\n",
       "        vertical-align: middle;\n",
       "    }\n",
       "\n",
       "    .dataframe tbody tr th {\n",
       "        vertical-align: top;\n",
       "    }\n",
       "\n",
       "    .dataframe thead th {\n",
       "        text-align: right;\n",
       "    }\n",
       "</style>\n",
       "<table border=\"1\" class=\"dataframe\">\n",
       "  <thead>\n",
       "    <tr style=\"text-align: right;\">\n",
       "      <th></th>\n",
       "      <th>id</th>\n",
       "      <th>q_format</th>\n",
       "      <th>a_format</th>\n",
       "    </tr>\n",
       "  </thead>\n",
       "  <tbody>\n",
       "    <tr>\n",
       "      <th>0</th>\n",
       "      <td>F2</td>\n",
       "      <td>What is [COURSE] about?</td>\n",
       "      <td>[COURSE] is about [COURSE_DESCRIPTION]</td>\n",
       "    </tr>\n",
       "    <tr>\n",
       "      <th>1</th>\n",
       "      <td>F2</td>\n",
       "      <td>What are the Mathematics/Statistics Support El...</td>\n",
       "      <td>The available Mathematics/Statistics Support E...</td>\n",
       "    </tr>\n",
       "    <tr>\n",
       "      <th>2</th>\n",
       "      <td>F2</td>\n",
       "      <td>What are the approved technical electives for ...</td>\n",
       "      <td>The available approved technical elective opti...</td>\n",
       "    </tr>\n",
       "    <tr>\n",
       "      <th>3</th>\n",
       "      <td>F2</td>\n",
       "      <td>Which courses will count as approved external ...</td>\n",
       "      <td>The available approved external elective optio...</td>\n",
       "    </tr>\n",
       "    <tr>\n",
       "      <th>4</th>\n",
       "      <td>F2</td>\n",
       "      <td>Is taking the GRE required for acceptance into...</td>\n",
       "      <td>No, for [MAJOR] majors, students do not need t...</td>\n",
       "    </tr>\n",
       "  </tbody>\n",
       "</table>\n",
       "</div>"
      ],
      "text/plain": [
       "   id                                           q_format  \\\n",
       "0  F2                            What is [COURSE] about?   \n",
       "1  F2  What are the Mathematics/Statistics Support El...   \n",
       "2  F2  What are the approved technical electives for ...   \n",
       "3  F2  Which courses will count as approved external ...   \n",
       "4  F2  Is taking the GRE required for acceptance into...   \n",
       "\n",
       "                                            a_format  \n",
       "0             [COURSE] is about [COURSE_DESCRIPTION]  \n",
       "1  The available Mathematics/Statistics Support E...  \n",
       "2  The available approved technical elective opti...  \n",
       "3  The available approved external elective optio...  \n",
       "4  No, for [MAJOR] majors, students do not need t...  "
      ]
     },
     "execution_count": 338,
     "metadata": {},
     "output_type": "execute_result"
    }
   ],
   "source": [
    "all_df[wierd_columns_mask != True][['id','q_format','a_format']].head()"
   ]
  },
  {
   "cell_type": "code",
   "execution_count": 339,
   "metadata": {},
   "outputs": [
    {
     "data": {
      "text/html": [
       "<div>\n",
       "<style scoped>\n",
       "    .dataframe tbody tr th:only-of-type {\n",
       "        vertical-align: middle;\n",
       "    }\n",
       "\n",
       "    .dataframe tbody tr th {\n",
       "        vertical-align: top;\n",
       "    }\n",
       "\n",
       "    .dataframe thead th {\n",
       "        text-align: right;\n",
       "    }\n",
       "</style>\n",
       "<table border=\"1\" class=\"dataframe\">\n",
       "  <thead>\n",
       "    <tr style=\"text-align: right;\">\n",
       "      <th></th>\n",
       "      <th>id</th>\n",
       "      <th>q_format</th>\n",
       "      <th>a_format</th>\n",
       "    </tr>\n",
       "  </thead>\n",
       "  <tbody>\n",
       "    <tr>\n",
       "      <th>87</th>\n",
       "      <td>A2</td>\n",
       "      <td>What time does [CSCorSTAT] tutoring meet?</td>\n",
       "      <td>[TutorTime] (if CSC, also insert note on how t...</td>\n",
       "    </tr>\n",
       "    <tr>\n",
       "      <th>88</th>\n",
       "      <td>A2</td>\n",
       "      <td>Who are some private tutors for Statistics?</td>\n",
       "      <td>Here is a PDF for a list of private Statistics...</td>\n",
       "    </tr>\n",
       "    <tr>\n",
       "      <th>89</th>\n",
       "      <td>A2</td>\n",
       "      <td>What do I need to do to be a CSC tutor?</td>\n",
       "      <td>Complete (or be enrolled in) CSC 357 and sched...</td>\n",
       "    </tr>\n",
       "    <tr>\n",
       "      <th>90</th>\n",
       "      <td>A2</td>\n",
       "      <td>Does [CSSESTATClubOrgName] have a [OfficerRole...</td>\n",
       "      <td>[YesOrNo]</td>\n",
       "    </tr>\n",
       "    <tr>\n",
       "      <th>91</th>\n",
       "      <td>A2</td>\n",
       "      <td>Who is the club adviser for [CSSESTATClubOrgNa...</td>\n",
       "      <td>The club adviser for [CSSESTATClubOrgName] is ...</td>\n",
       "    </tr>\n",
       "  </tbody>\n",
       "</table>\n",
       "</div>"
      ],
      "text/plain": [
       "    id                                           q_format  \\\n",
       "87  A2          What time does [CSCorSTAT] tutoring meet?   \n",
       "88  A2        Who are some private tutors for Statistics?   \n",
       "89  A2            What do I need to do to be a CSC tutor?   \n",
       "90  A2  Does [CSSESTATClubOrgName] have a [OfficerRole...   \n",
       "91  A2  Who is the club adviser for [CSSESTATClubOrgNa...   \n",
       "\n",
       "                                             a_format  \n",
       "87  [TutorTime] (if CSC, also insert note on how t...  \n",
       "88  Here is a PDF for a list of private Statistics...  \n",
       "89  Complete (or be enrolled in) CSC 357 and sched...  \n",
       "90                                          [YesOrNo]  \n",
       "91  The club adviser for [CSSESTATClubOrgName] is ...  "
      ]
     },
     "execution_count": 339,
     "metadata": {},
     "output_type": "execute_result"
    }
   ],
   "source": [
    "all_df[wierd_columns_mask != True][['id','q_format','a_format']].tail()"
   ]
  },
  {
   "cell_type": "markdown",
   "metadata": {},
   "source": [
    "## Finally, some reasonable looking data!\n",
    "### To be continued..."
   ]
  },
  {
   "cell_type": "code",
   "execution_count": null,
   "metadata": {},
   "outputs": [],
   "source": []
  }
 ],
 "metadata": {
  "kernelspec": {
   "display_name": "Python 3",
   "language": "python",
   "name": "python3"
  },
  "language_info": {
   "codemirror_mode": {
    "name": "ipython",
    "version": 3
   },
   "file_extension": ".py",
   "mimetype": "text/x-python",
   "name": "python",
   "nbconvert_exporter": "python",
   "pygments_lexer": "ipython3",
   "version": "3.7.3"
  }
 },
 "nbformat": 4,
 "nbformat_minor": 2
}
