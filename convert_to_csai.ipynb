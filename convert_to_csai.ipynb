{
 "cells": [
  {
   "cell_type": "code",
   "execution_count": 9,
   "metadata": {},
   "outputs": [],
   "source": [
    "from os import listdir, getcwd\n",
    "from os.path import join\n",
    "from RedirectStdStreams import RedirectStdStreams\n",
    "from io import StringIO\n",
    "import pandas as pd"
   ]
  },
  {
   "cell_type": "code",
   "execution_count": 10,
   "metadata": {},
   "outputs": [],
   "source": [
    "DATA_DIR = 'STACIA_QA'\n",
    "DIR = join(getcwd(), DATA_DIR)"
   ]
  },
  {
   "cell_type": "code",
   "execution_count": 11,
   "metadata": {},
   "outputs": [],
   "source": [
    "files = listdir(DATA_DIR)"
   ]
  },
  {
   "cell_type": "code",
   "execution_count": 12,
   "metadata": {},
   "outputs": [],
   "source": [
    "def startswith(y):\n",
    "    return lambda x: x.startswith(y)"
   ]
  },
  {
   "cell_type": "code",
   "execution_count": 13,
   "metadata": {},
   "outputs": [],
   "source": [
    "cs_files = [f for f in filter(startswith('cs'), files)]\n",
    "stat_files = [f for f in filter(startswith('stat'), files)]\n",
    "club_files = [f for f in filter(startswith('club'), files)]"
   ]
  },
  {
   "cell_type": "code",
   "execution_count": 14,
   "metadata": {},
   "outputs": [
    {
     "name": "stdout",
     "output_type": "stream",
     "text": [
      "cs8.txt done ....on to the next one....\n",
      "cs9.txt done ....on to the next one....\n",
      "cs1.txt done ....on to the next one....\n",
      "bad_line is # 14 ... A1|Are there any upcoming events for the [Stat-Club] club in the STAT department?|(No. | Yes. The next event is [Stat-Event] on [Date].)\n",
      "\n",
      "cs2.txt done ....on to the next one....\n",
      "cs3.txt done ....on to the next one....\n",
      "cs7.txt done ....on to the next one....\n",
      "cs6.txt done ....on to the next one....\n",
      "bad_line is # 14 ... A1|Are there any upcoming events for the [Stat-Club] club in the STAT department?|(No. | Yes. The next event is [Stat-Event] on [Date].)\n",
      "\n",
      "cs4.txt done ....on to the next one....\n",
      "cs5.txt done ....on to the next one....\n",
      "cs15.txt done ....on to the next one....\n",
      "cs14.txt done ....on to the next one....\n",
      "cs10.txt done ....on to the next one....\n",
      "cs11.txt done ....on to the next one....\n",
      "cs13.txt done ....on to the next one....\n",
      "bad_line is # 31 ... G1|How many units of tech electives are required for a [Major| Minor]?|Number\n",
      "\n",
      "cs12.txt done ....on to the next one....\n"
     ]
    }
   ],
   "source": [
    "# encodings: https://stackoverflow.com/q/19699367/5411712\n",
    "# list-of-encodings:\n",
    "# https://docs.python.org/3/library/codecs.html#standard-encodings\n",
    "for fname in cs_files:\n",
    "    fpath = join(DIR, fname)\n",
    "    warnings = StringIO()  # to catch the warnings\n",
    "    with RedirectStdStreams(stderr=warnings):\n",
    "        pd.read_csv(fpath,\n",
    "                    sep='|',\n",
    "                    encoding='latin_1',\n",
    "                    header=None,\n",
    "                    error_bad_lines=False,\n",
    "                    warn_bad_lines=True)\n",
    "    warnings.seek(0)\n",
    "    warns = warnings.read()\n",
    "    warnings.close()\n",
    "\n",
    "    if len(warns) > 10:\n",
    "        # for whatever reason the warnings look like \"b'Skipping...'\\n\"\n",
    "        # so chop off the weird stuff on the edges\n",
    "        warns = warns[2:len(warns)-2]\n",
    "        warns = warns.replace('\\\\n', '\\n')\n",
    "        with StringIO(warns) as w:\n",
    "            warn_df = pd.read_csv(w, sep='\\n', header=None)\n",
    "            warn_df.columns = ['warns']\n",
    "            # https://chrisalbon.com/python/data_wrangling/pandas_regex_to_create_columns/\n",
    "            warn_df['skipped_lines'] = warn_df['warns'].str.extract(\n",
    "                'Skipping line (\\d+)', expand=True)\n",
    "            warn_df['expected_cols'] = warn_df['warns'].str.extract(\n",
    "                'expected (\\d+)', expand=True)\n",
    "            warn_df['actual_cols'] = warn_df['warns'].str.extract(\n",
    "                'saw (\\d+)', expand=True)\n",
    "\n",
    "            with open(fpath, encoding='latin_1') as f:\n",
    "                lines = f.readlines()\n",
    "                line_num = int(warn_df['skipped_lines'][0])\n",
    "                bad_line = lines[line_num - 1]  # because lines are 1-indexed\n",
    "                print('bad_line is #', line_num, '...', bad_line)\n",
    "\n",
    "    print(fname, \"done\", \"....on to the next one....\")"
   ]
  },
  {
   "cell_type": "code",
   "execution_count": 15,
   "metadata": {},
   "outputs": [
    {
     "name": "stdout",
     "output_type": "stream",
     "text": [
      "stat1.txt done ....on to the next one....\n"
     ]
    }
   ],
   "source": [
    "for fname in stat_files:\n",
    "    warnings = StringIO()  # to catch the warnings\n",
    "    with RedirectStdStreams(stderr=warnings):\n",
    "        pd.read_csv(join(DIR, fname),\n",
    "                    sep='|',\n",
    "                    encoding='latin_1',\n",
    "                    header=None,\n",
    "                    error_bad_lines=False,\n",
    "                    warn_bad_lines=True)\n",
    "    warnings.seek(0)\n",
    "#    print(\"warnings??\",warnings.read())\n",
    "    print(fname, \"done\", \"....on to the next one....\")"
   ]
  },
  {
   "cell_type": "code",
   "execution_count": 16,
   "metadata": {},
   "outputs": [
    {
     "name": "stdout",
     "output_type": "stream",
     "text": [
      "clubs.txt done ....on to the next one....\n"
     ]
    }
   ],
   "source": [
    "for fname in club_files:\n",
    "    warnings = StringIO()  # to catch the warnings\n",
    "    with RedirectStdStreams(stderr=warnings):\n",
    "        pd.read_csv(join(DIR, fname),\n",
    "                    sep='|',\n",
    "                    encoding='latin_1',\n",
    "                    header=None,\n",
    "                    error_bad_lines=False,\n",
    "                    warn_bad_lines=True)\n",
    "    warnings.seek(0)\n",
    "#    print(\"warnings??\",warnings.read())\n",
    "    print(fname, \"done\", \"....on to the next one....\")\n"
   ]
  },
  {
   "cell_type": "code",
   "execution_count": null,
   "metadata": {},
   "outputs": [],
   "source": []
  },
  {
   "cell_type": "code",
   "execution_count": null,
   "metadata": {},
   "outputs": [],
   "source": []
  }
 ],
 "metadata": {
  "kernelspec": {
   "display_name": "Python 3",
   "language": "python",
   "name": "python3"
  },
  "language_info": {
   "codemirror_mode": {
    "name": "ipython",
    "version": 3
   },
   "file_extension": ".py",
   "mimetype": "text/x-python",
   "name": "python",
   "nbconvert_exporter": "python",
   "pygments_lexer": "ipython3",
   "version": "3.7.3"
  }
 },
 "nbformat": 4,
 "nbformat_minor": 2
}
